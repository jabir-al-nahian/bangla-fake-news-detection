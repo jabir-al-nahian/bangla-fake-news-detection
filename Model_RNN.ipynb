{
  "nbformat": 4,
  "nbformat_minor": 0,
  "metadata": {
    "colab": {
      "provenance": [],
      "include_colab_link": true
    },
    "kernelspec": {
      "name": "python3",
      "display_name": "Python 3"
    },
    "gpuClass": "standard",
    "accelerator": "GPU"
  },
  "cells": [
    {
      "cell_type": "markdown",
      "metadata": {
        "id": "view-in-github",
        "colab_type": "text"
      },
      "source": [
        "<a href=\"https://colab.research.google.com/github/jabir-al-nahian/bangla-fake-news-detection/blob/main/Model_RNN.ipynb\" target=\"_parent\"><img src=\"https://colab.research.google.com/assets/colab-badge.svg\" alt=\"Open In Colab\"/></a>"
      ]
    },
    {
      "cell_type": "markdown",
      "metadata": {
        "id": "5xAgmr1MywtI"
      },
      "source": [
        "#Libraries"
      ]
    },
    {
      "cell_type": "code",
      "source": [
        "from google.colab import drive\n",
        "drive.mount('/content/drive')"
      ],
      "metadata": {
        "colab": {
          "base_uri": "https://localhost:8080/"
        },
        "id": "MHztqvdd5fXg",
        "outputId": "6201498d-9d1a-43f0-f808-75a56c816cf6"
      },
      "execution_count": null,
      "outputs": [
        {
          "output_type": "stream",
          "name": "stdout",
          "text": [
            "Mounted at /content/drive\n"
          ]
        }
      ]
    },
    {
      "cell_type": "code",
      "metadata": {
        "id": "IcuDgC3VyzTa"
      },
      "source": [
        "import numpy as np\n",
        "import matplotlib.pyplot as plt\n",
        "%matplotlib inline\n",
        "import pandas as pd\n",
        "import seaborn as sns\n",
        "import re,nltk,json, pickle\n",
        "import tensorflow as tf\n",
        "from tensorflow import keras\n",
        "from tensorflow.keras import regularizers\n",
        "from tensorflow.keras.preprocessing.sequence import pad_sequences\n",
        "from tensorflow.keras.layers import LSTM,GRU\n",
        "from tensorflow.keras.models import load_model\n",
        "from sklearn.metrics import confusion_matrix\n",
        "from sklearn.metrics import classification_report\n",
        "from sklearn.model_selection import train_test_split\n",
        "from sklearn.metrics import accuracy_score,precision_score,recall_score,f1_score,roc_auc_score\n",
        "from sklearn.preprocessing import LabelEncoder\n",
        "from tensorflow.keras.preprocessing.text import Tokenizer\n",
        "np.random.seed(42)\n",
        "class color: # Text style\n",
        "   PURPLE = '\\033[95m'\n",
        "   CYAN = '\\033[96m'\n",
        "   DARKCYAN = '\\033[36m'\n",
        "   BLUE = '\\033[94m'\n",
        "   GREEN = '\\033[92m'\n",
        "   YELLOW = '\\033[93m'\n",
        "   RED = '\\033[91m'\n",
        "   BOLD = '\\033[1m'\n",
        "   UNDERLINE = '\\033[4m'\n",
        "   END = '\\033[0m'\n",
        "# Warnings\n",
        "import warnings\n",
        "warnings.simplefilter(action='ignore', category=FutureWarning)\n",
        "# dataset path\n",
        "dataset_path = '/content/drive/MyDrive/Colab Notebooks/ronok/'\n",
        "path = '/content/drive/MyDrive/Colab Notebooks/ronok/'\n"
      ],
      "execution_count": null,
      "outputs": []
    },
    {
      "cell_type": "markdown",
      "metadata": {
        "id": "eXQTUfnozI20"
      },
      "source": [
        "#Importing Dataset"
      ]
    },
    {
      "cell_type": "code",
      "metadata": {
        "id": "fD0awvBrzLVY",
        "colab": {
          "base_uri": "https://localhost:8080/"
        },
        "outputId": "1b9ec160-0224-4112-9727-45a4f2236ffc"
      },
      "source": [
        "# Read the data\n",
        "data = pd.read_csv(dataset_path+'all-news.csv',encoding='utf-8')\n",
        "print(f'Total number of Documents: {len(data)}')\n"
      ],
      "execution_count": null,
      "outputs": [
        {
          "output_type": "stream",
          "name": "stdout",
          "text": [
            "Total number of Documents: 10507\n"
          ]
        }
      ]
    },
    {
      "cell_type": "code",
      "source": [
        "data"
      ],
      "metadata": {
        "colab": {
          "base_uri": "https://localhost:8080/",
          "height": 641
        },
        "id": "sR2IfOg76ncR",
        "outputId": "22bfea2a-7e45-4626-8622-347e2e319b30"
      },
      "execution_count": null,
      "outputs": [
        {
          "output_type": "execute_result",
          "data": {
            "text/plain": [
              "                                               domain  \\\n",
              "0       http://www.allbanglanewspapersbd.com/samakal/   \n",
              "1       http://www.allbanglanewspapersbd.com/samakal/   \n",
              "2      http://www.allbanglanewspapersbd.com/jugantor/   \n",
              "3      http://www.allbanglanewspapersbd.com/jugantor/   \n",
              "4      http://www.allbanglanewspapersbd.com/jugantor/   \n",
              "...                                               ...   \n",
              "10502                                  jagonews24.com   \n",
              "10503                                  jagonews24.com   \n",
              "10504                                  jagonews24.com   \n",
              "10505                               independent24.com   \n",
              "10506                          bangla.thereport24.com   \n",
              "\n",
              "                                 date         category  \\\n",
              "0            ১৭ ফেব্রুয়ারি ২২ । ০০:০০           Sports   \n",
              "1            ১৬ ফেব্রুয়ারি ২২ । ১০:২২    entertainment   \n",
              "2      ১৭ ফেব্রুয়ারি ২০২২, ০১:০৫ পিএম  Covid-19 update   \n",
              "3       ১৭ ফেব্রুয়ারি ২০২২, ১১:২৫ এএম    International   \n",
              "4      ১৭ ফেব্রুয়ারি ২০২২, ০২:২৪ পিএম           Sports   \n",
              "...                               ...              ...   \n",
              "10502             2018-09-23 11:12:27         National   \n",
              "10503             2018-09-24 13:36:25         National   \n",
              "10504             2018-09-23 19:36:27         National   \n",
              "10505             2018-09-21 14:26:51         National   \n",
              "10506             2018-09-23 12:29:50    Entertainment   \n",
              "\n",
              "                                                headline  \\\n",
              "0                                  রোনালদোর অবাক করা গোল   \n",
              "1      বঙ্গবন্ধুর ৭ মার্চের ভাষণ নিয়ে হবে সিনেমা, নাম...   \n",
              "2      প্রাথমিকের শিক্ষার্থীদেরও টিকা দেওয়া হবে: শিক্...   \n",
              "3                       সৌদির সঙ্গে সংলাপ চলবে: এরদোগান    \n",
              "4                            পুলিশের ৯ উইকেট নিলেন তন্ময়   \n",
              "...                                                  ...   \n",
              "10502       তালাকের ৫ বছর পর শ্বশুরবাড়িতে প্রবাসীর মরদেহ   \n",
              "10503                বান্দরবানে পালিত হচ্ছে মধু পূর্ণিমা   \n",
              "10504  মাজেদাকে ধরিয়ে দিয়ে ১০ হাজার টাকা পুরস্কার নিল...   \n",
              "10505  মন্ত্রিসভায় চূড়ান্ত অনুমোদনের অপেক্ষায় টেলিযোগ...   \n",
              "10506                                        ফুল ঝরে পড়ে   \n",
              "\n",
              "                                                 content label  \n",
              "0      ﻿মঙ্গলবার রাতে প্যারিসে লিওনেল মেসি যখন পেনাল্...  real  \n",
              "1      ﻿﻿জাতির পিতা বঙ্গবন্ধু শেখ মুজিবুর রহমানের ঐতি...  real  \n",
              "2      মাধ্যমিকের পর এবার প্রাথমিকের শিক্ষার্থীদেরও ক...  real  \n",
              "3      সৌদি আরবের সঙ্গে তুরস্কের সংলাপ চলমান থাকবে বল...  real  \n",
              "4      ৫০ ওভারের ম্যাচে অবিশ্বাস্য পারফরম করলেন বাঁহা...  real  \n",
              "...                                                  ...   ...  \n",
              "10502  কুমিল্লার বুড়িচং উপজেলার এবদারপুর গ্রামে সাবেক...  real  \n",
              "10503  নানা মাঙ্গলিক আয়োজনের মধ্যে দিয়ে বান্দরবানে পা...  real  \n",
              "10504  নারায়ণগঞ্জের সিদ্ধিরগঞ্জে শীর্ষ মাদক ব্যবসায়ী ...  real  \n",
              "10505  ২০ বছরের পুরনো নীতিমালা দিয়েই চলছে দেশের টেলিয...  real  \n",
              "10506  মারুফ কামরুল মুখ ভরে বমি করছে চুটকি। আধ ভাঙা ভ...  real  \n",
              "\n",
              "[10507 rows x 6 columns]"
            ],
            "text/html": [
              "\n",
              "  <div id=\"df-98033dc2-313e-400e-a8b2-7752bc0248b6\">\n",
              "    <div class=\"colab-df-container\">\n",
              "      <div>\n",
              "<style scoped>\n",
              "    .dataframe tbody tr th:only-of-type {\n",
              "        vertical-align: middle;\n",
              "    }\n",
              "\n",
              "    .dataframe tbody tr th {\n",
              "        vertical-align: top;\n",
              "    }\n",
              "\n",
              "    .dataframe thead th {\n",
              "        text-align: right;\n",
              "    }\n",
              "</style>\n",
              "<table border=\"1\" class=\"dataframe\">\n",
              "  <thead>\n",
              "    <tr style=\"text-align: right;\">\n",
              "      <th></th>\n",
              "      <th>domain</th>\n",
              "      <th>date</th>\n",
              "      <th>category</th>\n",
              "      <th>headline</th>\n",
              "      <th>content</th>\n",
              "      <th>label</th>\n",
              "    </tr>\n",
              "  </thead>\n",
              "  <tbody>\n",
              "    <tr>\n",
              "      <th>0</th>\n",
              "      <td>http://www.allbanglanewspapersbd.com/samakal/</td>\n",
              "      <td>১৭ ফেব্রুয়ারি ২২ । ০০:০০</td>\n",
              "      <td>Sports</td>\n",
              "      <td>রোনালদোর অবাক করা গোল</td>\n",
              "      <td>﻿মঙ্গলবার রাতে প্যারিসে লিওনেল মেসি যখন পেনাল্...</td>\n",
              "      <td>real</td>\n",
              "    </tr>\n",
              "    <tr>\n",
              "      <th>1</th>\n",
              "      <td>http://www.allbanglanewspapersbd.com/samakal/</td>\n",
              "      <td>১৬ ফেব্রুয়ারি ২২ । ১০:২২</td>\n",
              "      <td>entertainment</td>\n",
              "      <td>বঙ্গবন্ধুর ৭ মার্চের ভাষণ নিয়ে হবে সিনেমা, নাম...</td>\n",
              "      <td>﻿﻿জাতির পিতা বঙ্গবন্ধু শেখ মুজিবুর রহমানের ঐতি...</td>\n",
              "      <td>real</td>\n",
              "    </tr>\n",
              "    <tr>\n",
              "      <th>2</th>\n",
              "      <td>http://www.allbanglanewspapersbd.com/jugantor/</td>\n",
              "      <td>১৭ ফেব্রুয়ারি ২০২২, ০১:০৫ পিএম</td>\n",
              "      <td>Covid-19 update</td>\n",
              "      <td>প্রাথমিকের শিক্ষার্থীদেরও টিকা দেওয়া হবে: শিক্...</td>\n",
              "      <td>মাধ্যমিকের পর এবার প্রাথমিকের শিক্ষার্থীদেরও ক...</td>\n",
              "      <td>real</td>\n",
              "    </tr>\n",
              "    <tr>\n",
              "      <th>3</th>\n",
              "      <td>http://www.allbanglanewspapersbd.com/jugantor/</td>\n",
              "      <td>১৭ ফেব্রুয়ারি ২০২২, ১১:২৫ এএম</td>\n",
              "      <td>International</td>\n",
              "      <td>সৌদির সঙ্গে সংলাপ চলবে: এরদোগান</td>\n",
              "      <td>সৌদি আরবের সঙ্গে তুরস্কের সংলাপ চলমান থাকবে বল...</td>\n",
              "      <td>real</td>\n",
              "    </tr>\n",
              "    <tr>\n",
              "      <th>4</th>\n",
              "      <td>http://www.allbanglanewspapersbd.com/jugantor/</td>\n",
              "      <td>১৭ ফেব্রুয়ারি ২০২২, ০২:২৪ পিএম</td>\n",
              "      <td>Sports</td>\n",
              "      <td>পুলিশের ৯ উইকেট নিলেন তন্ময়</td>\n",
              "      <td>৫০ ওভারের ম্যাচে অবিশ্বাস্য পারফরম করলেন বাঁহা...</td>\n",
              "      <td>real</td>\n",
              "    </tr>\n",
              "    <tr>\n",
              "      <th>...</th>\n",
              "      <td>...</td>\n",
              "      <td>...</td>\n",
              "      <td>...</td>\n",
              "      <td>...</td>\n",
              "      <td>...</td>\n",
              "      <td>...</td>\n",
              "    </tr>\n",
              "    <tr>\n",
              "      <th>10502</th>\n",
              "      <td>jagonews24.com</td>\n",
              "      <td>2018-09-23 11:12:27</td>\n",
              "      <td>National</td>\n",
              "      <td>তালাকের ৫ বছর পর শ্বশুরবাড়িতে প্রবাসীর মরদেহ</td>\n",
              "      <td>কুমিল্লার বুড়িচং উপজেলার এবদারপুর গ্রামে সাবেক...</td>\n",
              "      <td>real</td>\n",
              "    </tr>\n",
              "    <tr>\n",
              "      <th>10503</th>\n",
              "      <td>jagonews24.com</td>\n",
              "      <td>2018-09-24 13:36:25</td>\n",
              "      <td>National</td>\n",
              "      <td>বান্দরবানে পালিত হচ্ছে মধু পূর্ণিমা</td>\n",
              "      <td>নানা মাঙ্গলিক আয়োজনের মধ্যে দিয়ে বান্দরবানে পা...</td>\n",
              "      <td>real</td>\n",
              "    </tr>\n",
              "    <tr>\n",
              "      <th>10504</th>\n",
              "      <td>jagonews24.com</td>\n",
              "      <td>2018-09-23 19:36:27</td>\n",
              "      <td>National</td>\n",
              "      <td>মাজেদাকে ধরিয়ে দিয়ে ১০ হাজার টাকা পুরস্কার নিল...</td>\n",
              "      <td>নারায়ণগঞ্জের সিদ্ধিরগঞ্জে শীর্ষ মাদক ব্যবসায়ী ...</td>\n",
              "      <td>real</td>\n",
              "    </tr>\n",
              "    <tr>\n",
              "      <th>10505</th>\n",
              "      <td>independent24.com</td>\n",
              "      <td>2018-09-21 14:26:51</td>\n",
              "      <td>National</td>\n",
              "      <td>মন্ত্রিসভায় চূড়ান্ত অনুমোদনের অপেক্ষায় টেলিযোগ...</td>\n",
              "      <td>২০ বছরের পুরনো নীতিমালা দিয়েই চলছে দেশের টেলিয...</td>\n",
              "      <td>real</td>\n",
              "    </tr>\n",
              "    <tr>\n",
              "      <th>10506</th>\n",
              "      <td>bangla.thereport24.com</td>\n",
              "      <td>2018-09-23 12:29:50</td>\n",
              "      <td>Entertainment</td>\n",
              "      <td>ফুল ঝরে পড়ে</td>\n",
              "      <td>মারুফ কামরুল মুখ ভরে বমি করছে চুটকি। আধ ভাঙা ভ...</td>\n",
              "      <td>real</td>\n",
              "    </tr>\n",
              "  </tbody>\n",
              "</table>\n",
              "<p>10507 rows × 6 columns</p>\n",
              "</div>\n",
              "      <button class=\"colab-df-convert\" onclick=\"convertToInteractive('df-98033dc2-313e-400e-a8b2-7752bc0248b6')\"\n",
              "              title=\"Convert this dataframe to an interactive table.\"\n",
              "              style=\"display:none;\">\n",
              "        \n",
              "  <svg xmlns=\"http://www.w3.org/2000/svg\" height=\"24px\"viewBox=\"0 0 24 24\"\n",
              "       width=\"24px\">\n",
              "    <path d=\"M0 0h24v24H0V0z\" fill=\"none\"/>\n",
              "    <path d=\"M18.56 5.44l.94 2.06.94-2.06 2.06-.94-2.06-.94-.94-2.06-.94 2.06-2.06.94zm-11 1L8.5 8.5l.94-2.06 2.06-.94-2.06-.94L8.5 2.5l-.94 2.06-2.06.94zm10 10l.94 2.06.94-2.06 2.06-.94-2.06-.94-.94-2.06-.94 2.06-2.06.94z\"/><path d=\"M17.41 7.96l-1.37-1.37c-.4-.4-.92-.59-1.43-.59-.52 0-1.04.2-1.43.59L10.3 9.45l-7.72 7.72c-.78.78-.78 2.05 0 2.83L4 21.41c.39.39.9.59 1.41.59.51 0 1.02-.2 1.41-.59l7.78-7.78 2.81-2.81c.8-.78.8-2.07 0-2.86zM5.41 20L4 18.59l7.72-7.72 1.47 1.35L5.41 20z\"/>\n",
              "  </svg>\n",
              "      </button>\n",
              "      \n",
              "  <style>\n",
              "    .colab-df-container {\n",
              "      display:flex;\n",
              "      flex-wrap:wrap;\n",
              "      gap: 12px;\n",
              "    }\n",
              "\n",
              "    .colab-df-convert {\n",
              "      background-color: #E8F0FE;\n",
              "      border: none;\n",
              "      border-radius: 50%;\n",
              "      cursor: pointer;\n",
              "      display: none;\n",
              "      fill: #1967D2;\n",
              "      height: 32px;\n",
              "      padding: 0 0 0 0;\n",
              "      width: 32px;\n",
              "    }\n",
              "\n",
              "    .colab-df-convert:hover {\n",
              "      background-color: #E2EBFA;\n",
              "      box-shadow: 0px 1px 2px rgba(60, 64, 67, 0.3), 0px 1px 3px 1px rgba(60, 64, 67, 0.15);\n",
              "      fill: #174EA6;\n",
              "    }\n",
              "\n",
              "    [theme=dark] .colab-df-convert {\n",
              "      background-color: #3B4455;\n",
              "      fill: #D2E3FC;\n",
              "    }\n",
              "\n",
              "    [theme=dark] .colab-df-convert:hover {\n",
              "      background-color: #434B5C;\n",
              "      box-shadow: 0px 1px 3px 1px rgba(0, 0, 0, 0.15);\n",
              "      filter: drop-shadow(0px 1px 2px rgba(0, 0, 0, 0.3));\n",
              "      fill: #FFFFFF;\n",
              "    }\n",
              "  </style>\n",
              "\n",
              "      <script>\n",
              "        const buttonEl =\n",
              "          document.querySelector('#df-98033dc2-313e-400e-a8b2-7752bc0248b6 button.colab-df-convert');\n",
              "        buttonEl.style.display =\n",
              "          google.colab.kernel.accessAllowed ? 'block' : 'none';\n",
              "\n",
              "        async function convertToInteractive(key) {\n",
              "          const element = document.querySelector('#df-98033dc2-313e-400e-a8b2-7752bc0248b6');\n",
              "          const dataTable =\n",
              "            await google.colab.kernel.invokeFunction('convertToInteractive',\n",
              "                                                     [key], {});\n",
              "          if (!dataTable) return;\n",
              "\n",
              "          const docLinkHtml = 'Like what you see? Visit the ' +\n",
              "            '<a target=\"_blank\" href=https://colab.research.google.com/notebooks/data_table.ipynb>data table notebook</a>'\n",
              "            + ' to learn more about interactive tables.';\n",
              "          element.innerHTML = '';\n",
              "          dataTable['output_type'] = 'display_data';\n",
              "          await google.colab.output.renderOutput(dataTable, element);\n",
              "          const docLink = document.createElement('div');\n",
              "          docLink.innerHTML = docLinkHtml;\n",
              "          element.appendChild(docLink);\n",
              "        }\n",
              "      </script>\n",
              "    </div>\n",
              "  </div>\n",
              "  "
            ]
          },
          "metadata": {},
          "execution_count": 4
        }
      ]
    },
    {
      "cell_type": "code",
      "metadata": {
        "id": "tsY51cTI0Ou6"
      },
      "source": [
        "data = data[['headline','label']]"
      ],
      "execution_count": null,
      "outputs": []
    },
    {
      "cell_type": "code",
      "metadata": {
        "id": "Of-9xsPxzdvm",
        "colab": {
          "base_uri": "https://localhost:8080/",
          "height": 438
        },
        "outputId": "9fac4447-21b0-4557-c2ea-90420f7d6986"
      },
      "source": [
        "# Plot the Class distribution\n",
        "sns.set(font_scale=1.4)\n",
        "data['label'].value_counts().plot(kind='barh', figsize=(8, 6))\n",
        "plt.xlabel(\"Number of Articles\", labelpad=12)\n",
        "plt.ylabel(\"Category\", labelpad=12)\n",
        "plt.yticks(rotation = 45)\n",
        "plt.title(\"Dataset Distribution\", y=1.02);"
      ],
      "execution_count": null,
      "outputs": [
        {
          "output_type": "display_data",
          "data": {
            "text/plain": [
              "<Figure size 576x432 with 1 Axes>"
            ],
            "image/png": "[encoded data removed]"
          },
          "metadata": {}
        }
      ]
    },
    {
      "cell_type": "markdown",
      "metadata": {
        "id": "P78udrKC0wM3"
      },
      "source": [
        "The dataset has total 12 News Categories data and politics class has maximum number of articles."
      ]
    },
    {
      "cell_type": "markdown",
      "metadata": {
        "id": "gOUPdVxO1U6q"
      },
      "source": [
        "#Data Preparation and Cleaning"
      ]
    },
    {
      "cell_type": "code",
      "metadata": {
        "id": "4NTMIxZu1EQr"
      },
      "source": [
        "# Cleaning Data [Remove unncessary symbols]\n",
        "def cleaning_documents(articles):\n",
        "      '''\n",
        "      This function will clean the news articles by removing punctuation marks and stopwords.\n",
        "\n",
        "      Args:\n",
        "      articles: a news text(str)\n",
        "\n",
        "      returns:\n",
        "      news: clean text (str)\n",
        "      '''\n",
        "      news = articles.replace('\\n',' ')\n",
        "      news = re.sub('[^\\u0980-\\u09FF]',' ',str(news)) #removing unnecessary punctuation\n",
        "      # stopwords removal\n",
        "      stp = open(path+'bangla_stopwords.txt','r',encoding='utf-8').read().split()\n",
        "      result = news.split()\n",
        "      news = [word.strip() for word in result if word not in stp ]\n",
        "      news =\" \".join(news)\n",
        "      return news"
      ],
      "execution_count": null,
      "outputs": []
    },
    {
      "cell_type": "code",
      "metadata": {
        "id": "MtfaphnVsJlc",
        "colab": {
          "base_uri": "https://localhost:8080/"
        },
        "outputId": "4ac5fbdd-2660-45a6-f4da-35e4e8090ba6"
      },
      "source": [
        "# Apply the function into the dataframe\n",
        "data['cleaned'] = data['headline'].apply(cleaning_documents)"
      ],
      "execution_count": null,
      "outputs": [
        {
          "output_type": "stream",
          "name": "stderr",
          "text": [
            "/usr/local/lib/python3.7/dist-packages/ipykernel_launcher.py:2: SettingWithCopyWarning: \n",
            "A value is trying to be set on a copy of a slice from a DataFrame.\n",
            "Try using .loc[row_indexer,col_indexer] = value instead\n",
            "\n",
            "See the caveats in the documentation: https://pandas.pydata.org/pandas-docs/stable/user_guide/indexing.html#returning-a-view-versus-a-copy\n",
            "  \n"
          ]
        }
      ]
    },
    {
      "cell_type": "code",
      "source": [
        "data"
      ],
      "metadata": {
        "colab": {
          "base_uri": "https://localhost:8080/",
          "height": 424
        },
        "id": "d9H5geAg7j6X",
        "outputId": "cae1e3f8-d458-4d29-e07c-1152b61605bf"
      },
      "execution_count": null,
      "outputs": [
        {
          "output_type": "execute_result",
          "data": {
            "text/plain": [
              "                                                headline label  \\\n",
              "0                                  রোনালদোর অবাক করা গোল  real   \n",
              "1      বঙ্গবন্ধুর ৭ মার্চের ভাষণ নিয়ে হবে সিনেমা, নাম...  real   \n",
              "2      প্রাথমিকের শিক্ষার্থীদেরও টিকা দেওয়া হবে: শিক্...  real   \n",
              "3                       সৌদির সঙ্গে সংলাপ চলবে: এরদোগান   real   \n",
              "4                            পুলিশের ৯ উইকেট নিলেন তন্ময়  real   \n",
              "...                                                  ...   ...   \n",
              "10502       তালাকের ৫ বছর পর শ্বশুরবাড়িতে প্রবাসীর মরদেহ  real   \n",
              "10503                বান্দরবানে পালিত হচ্ছে মধু পূর্ণিমা  real   \n",
              "10504  মাজেদাকে ধরিয়ে দিয়ে ১০ হাজার টাকা পুরস্কার নিল...  real   \n",
              "10505  মন্ত্রিসভায় চূড়ান্ত অনুমোদনের অপেক্ষায় টেলিযোগ...  real   \n",
              "10506                                        ফুল ঝরে পড়ে  real   \n",
              "\n",
              "                                                 cleaned  \n",
              "0                                      রোনালদোর অবাক গোল  \n",
              "1              বঙ্গবন্ধুর ৭ মার্চের ভাষণ সিনেমা নাম মাইক  \n",
              "2           প্রাথমিকের শিক্ষার্থীদেরও টিকা শিক্ষামন্ত্রী  \n",
              "3                               সৌদির সংলাপ চলবে এরদোগান  \n",
              "4                            পুলিশের ৯ উইকেট নিলেন তন্ময়  \n",
              "...                                                  ...  \n",
              "10502          তালাকের ৫ বছর শ্বশুরবাড়িতে প্রবাসীর মরদেহ  \n",
              "10503                      বান্দরবানে পালিত মধু পূর্ণিমা  \n",
              "10504           মাজেদাকে ধরিয়ে দিয়ে ১০ টাকা পুরস্কার নিল  \n",
              "10505  মন্ত্রিসভায় চূড়ান্ত অনুমোদনের অপেক্ষায় টেলিযোগ...  \n",
              "10506                                        ফুল ঝরে পড়ে  \n",
              "\n",
              "[10507 rows x 3 columns]"
            ],
            "text/html": [
              "\n",
              "  <div id=\"df-86736989-66f1-4792-8500-a86551d6e2b3\">\n",
              "    <div class=\"colab-df-container\">\n",
              "      <div>\n",
              "<style scoped>\n",
              "    .dataframe tbody tr th:only-of-type {\n",
              "        vertical-align: middle;\n",
              "    }\n",
              "\n",
              "    .dataframe tbody tr th {\n",
              "        vertical-align: top;\n",
              "    }\n",
              "\n",
              "    .dataframe thead th {\n",
              "        text-align: right;\n",
              "    }\n",
              "</style>\n",
              "<table border=\"1\" class=\"dataframe\">\n",
              "  <thead>\n",
              "    <tr style=\"text-align: right;\">\n",
              "      <th></th>\n",
              "      <th>headline</th>\n",
              "      <th>label</th>\n",
              "      <th>cleaned</th>\n",
              "    </tr>\n",
              "  </thead>\n",
              "  <tbody>\n",
              "    <tr>\n",
              "      <th>0</th>\n",
              "      <td>রোনালদোর অবাক করা গোল</td>\n",
              "      <td>real</td>\n",
              "      <td>রোনালদোর অবাক গোল</td>\n",
              "    </tr>\n",
              "    <tr>\n",
              "      <th>1</th>\n",
              "      <td>বঙ্গবন্ধুর ৭ মার্চের ভাষণ নিয়ে হবে সিনেমা, নাম...</td>\n",
              "      <td>real</td>\n",
              "      <td>বঙ্গবন্ধুর ৭ মার্চের ভাষণ সিনেমা নাম মাইক</td>\n",
              "    </tr>\n",
              "    <tr>\n",
              "      <th>2</th>\n",
              "      <td>প্রাথমিকের শিক্ষার্থীদেরও টিকা দেওয়া হবে: শিক্...</td>\n",
              "      <td>real</td>\n",
              "      <td>প্রাথমিকের শিক্ষার্থীদেরও টিকা শিক্ষামন্ত্রী</td>\n",
              "    </tr>\n",
              "    <tr>\n",
              "      <th>3</th>\n",
              "      <td>সৌদির সঙ্গে সংলাপ চলবে: এরদোগান</td>\n",
              "      <td>real</td>\n",
              "      <td>সৌদির সংলাপ চলবে এরদোগান</td>\n",
              "    </tr>\n",
              "    <tr>\n",
              "      <th>4</th>\n",
              "      <td>পুলিশের ৯ উইকেট নিলেন তন্ময়</td>\n",
              "      <td>real</td>\n",
              "      <td>পুলিশের ৯ উইকেট নিলেন তন্ময়</td>\n",
              "    </tr>\n",
              "    <tr>\n",
              "      <th>...</th>\n",
              "      <td>...</td>\n",
              "      <td>...</td>\n",
              "      <td>...</td>\n",
              "    </tr>\n",
              "    <tr>\n",
              "      <th>10502</th>\n",
              "      <td>তালাকের ৫ বছর পর শ্বশুরবাড়িতে প্রবাসীর মরদেহ</td>\n",
              "      <td>real</td>\n",
              "      <td>তালাকের ৫ বছর শ্বশুরবাড়িতে প্রবাসীর মরদেহ</td>\n",
              "    </tr>\n",
              "    <tr>\n",
              "      <th>10503</th>\n",
              "      <td>বান্দরবানে পালিত হচ্ছে মধু পূর্ণিমা</td>\n",
              "      <td>real</td>\n",
              "      <td>বান্দরবানে পালিত মধু পূর্ণিমা</td>\n",
              "    </tr>\n",
              "    <tr>\n",
              "      <th>10504</th>\n",
              "      <td>মাজেদাকে ধরিয়ে দিয়ে ১০ হাজার টাকা পুরস্কার নিল...</td>\n",
              "      <td>real</td>\n",
              "      <td>মাজেদাকে ধরিয়ে দিয়ে ১০ টাকা পুরস্কার নিল</td>\n",
              "    </tr>\n",
              "    <tr>\n",
              "      <th>10505</th>\n",
              "      <td>মন্ত্রিসভায় চূড়ান্ত অনুমোদনের অপেক্ষায় টেলিযোগ...</td>\n",
              "      <td>real</td>\n",
              "      <td>মন্ত্রিসভায় চূড়ান্ত অনুমোদনের অপেক্ষায় টেলিযোগ...</td>\n",
              "    </tr>\n",
              "    <tr>\n",
              "      <th>10506</th>\n",
              "      <td>ফুল ঝরে পড়ে</td>\n",
              "      <td>real</td>\n",
              "      <td>ফুল ঝরে পড়ে</td>\n",
              "    </tr>\n",
              "  </tbody>\n",
              "</table>\n",
              "<p>10507 rows × 3 columns</p>\n",
              "</div>\n",
              "      <button class=\"colab-df-convert\" onclick=\"convertToInteractive('df-86736989-66f1-4792-8500-a86551d6e2b3')\"\n",
              "              title=\"Convert this dataframe to an interactive table.\"\n",
              "              style=\"display:none;\">\n",
              "        \n",
              "  <svg xmlns=\"http://www.w3.org/2000/svg\" height=\"24px\"viewBox=\"0 0 24 24\"\n",
              "       width=\"24px\">\n",
              "    <path d=\"M0 0h24v24H0V0z\" fill=\"none\"/>\n",
              "    <path d=\"M18.56 5.44l.94 2.06.94-2.06 2.06-.94-2.06-.94-.94-2.06-.94 2.06-2.06.94zm-11 1L8.5 8.5l.94-2.06 2.06-.94-2.06-.94L8.5 2.5l-.94 2.06-2.06.94zm10 10l.94 2.06.94-2.06 2.06-.94-2.06-.94-.94-2.06-.94 2.06-2.06.94z\"/><path d=\"M17.41 7.96l-1.37-1.37c-.4-.4-.92-.59-1.43-.59-.52 0-1.04.2-1.43.59L10.3 9.45l-7.72 7.72c-.78.78-.78 2.05 0 2.83L4 21.41c.39.39.9.59 1.41.59.51 0 1.02-.2 1.41-.59l7.78-7.78 2.81-2.81c.8-.78.8-2.07 0-2.86zM5.41 20L4 18.59l7.72-7.72 1.47 1.35L5.41 20z\"/>\n",
              "  </svg>\n",
              "      </button>\n",
              "      \n",
              "  <style>\n",
              "    .colab-df-container {\n",
              "      display:flex;\n",
              "      flex-wrap:wrap;\n",
              "      gap: 12px;\n",
              "    }\n",
              "\n",
              "    .colab-df-convert {\n",
              "      background-color: #E8F0FE;\n",
              "      border: none;\n",
              "      border-radius: 50%;\n",
              "      cursor: pointer;\n",
              "      display: none;\n",
              "      fill: #1967D2;\n",
              "      height: 32px;\n",
              "      padding: 0 0 0 0;\n",
              "      width: 32px;\n",
              "    }\n",
              "\n",
              "    .colab-df-convert:hover {\n",
              "      background-color: #E2EBFA;\n",
              "      box-shadow: 0px 1px 2px rgba(60, 64, 67, 0.3), 0px 1px 3px 1px rgba(60, 64, 67, 0.15);\n",
              "      fill: #174EA6;\n",
              "    }\n",
              "\n",
              "    [theme=dark] .colab-df-convert {\n",
              "      background-color: #3B4455;\n",
              "      fill: #D2E3FC;\n",
              "    }\n",
              "\n",
              "    [theme=dark] .colab-df-convert:hover {\n",
              "      background-color: #434B5C;\n",
              "      box-shadow: 0px 1px 3px 1px rgba(0, 0, 0, 0.15);\n",
              "      filter: drop-shadow(0px 1px 2px rgba(0, 0, 0, 0.3));\n",
              "      fill: #FFFFFF;\n",
              "    }\n",
              "  </style>\n",
              "\n",
              "      <script>\n",
              "        const buttonEl =\n",
              "          document.querySelector('#df-86736989-66f1-4792-8500-a86551d6e2b3 button.colab-df-convert');\n",
              "        buttonEl.style.display =\n",
              "          google.colab.kernel.accessAllowed ? 'block' : 'none';\n",
              "\n",
              "        async function convertToInteractive(key) {\n",
              "          const element = document.querySelector('#df-86736989-66f1-4792-8500-a86551d6e2b3');\n",
              "          const dataTable =\n",
              "            await google.colab.kernel.invokeFunction('convertToInteractive',\n",
              "                                                     [key], {});\n",
              "          if (!dataTable) return;\n",
              "\n",
              "          const docLinkHtml = 'Like what you see? Visit the ' +\n",
              "            '<a target=\"_blank\" href=https://colab.research.google.com/notebooks/data_table.ipynb>data table notebook</a>'\n",
              "            + ' to learn more about interactive tables.';\n",
              "          element.innerHTML = '';\n",
              "          dataTable['output_type'] = 'display_data';\n",
              "          await google.colab.output.renderOutput(dataTable, element);\n",
              "          const docLink = document.createElement('div');\n",
              "          docLink.innerHTML = docLinkHtml;\n",
              "          element.appendChild(docLink);\n",
              "        }\n",
              "      </script>\n",
              "    </div>\n",
              "  </div>\n",
              "  "
            ]
          },
          "metadata": {},
          "execution_count": 9
        }
      ]
    },
    {
      "cell_type": "code",
      "metadata": {
        "id": "0DSYpDzx4rK7",
        "colab": {
          "base_uri": "https://localhost:8080/"
        },
        "outputId": "1f5eae98-6575-427c-96c2-570e0f7ea9cd"
      },
      "source": [
        "# print some cleaned documents from the dataset\n",
        "sample_data = [1000,2000,3000,4000,5000,10000]\n",
        "for i in sample_data:\n",
        "  print('Original:\\n',data.headline[i],'\\nCleaned:\\n',\n",
        "           data.cleaned[i],'\\n','Category:-- ',data.label[i],'\\n')"
      ],
      "execution_count": null,
      "outputs": [
        {
          "output_type": "stream",
          "name": "stdout",
          "text": [
            "Original:\n",
            " ওস্তাদের নির্দেশে আইএসরে গালি দেই: জোকাই লামা \n",
            "Cleaned:\n",
            " ওস্তাদের নির্দেশে আইএসরে গালি দেই জোকাই লামা \n",
            " Category:--  fake \n",
            "\n",
            "Original:\n",
            " তীব্র গরমে যুবককে জ্যাকেট পড়ানোর ভয় দেখিয়ে মোহাম্মদপুরে ছিনতাই - Bengal Beats \n",
            "Cleaned:\n",
            " তীব্র গরমে যুবককে জ্যাকেট পড়ানোর ভয় দেখিয়ে মোহাম্মদপুরে ছিনতাই \n",
            " Category:--  fake \n",
            "\n",
            "Original:\n",
            " প্রেম করলে বাড়বে ওজন! \n",
            "Cleaned:\n",
            " প্রেম বাড়বে ওজন \n",
            " Category:--  fake \n",
            "\n",
            "Original:\n",
            " নাইক্ষ্যংছ‌ড়ি‌তে ‘বন্দুকযু‌দ্ধে’ ডাকাত নিহত \n",
            "Cleaned:\n",
            " নাইক্ষ্যংছ ড়ি তে বন্দুকযু দ্ধে ডাকাত নিহত \n",
            " Category:--  real \n",
            "\n",
            "Original:\n",
            " শেখ হাসিনার অধীনে কোনো নির্বাচন নয় : দুদু \n",
            "Cleaned:\n",
            " শেখ হাসিনার অধীনে নির্বাচন দুদু \n",
            " Category:--  real \n",
            "\n",
            "Original:\n",
            " ঢাবির ভর্তি পরীক্ষায় জালিয়াতি: আটক ২ \n",
            "Cleaned:\n",
            " ঢাবির ভর্তি পরীক্ষায় জালিয়াতি আটক ২ \n",
            " Category:--  real \n",
            "\n"
          ]
        }
      ]
    },
    {
      "cell_type": "code",
      "metadata": {
        "id": "CkJC0Qza6Ngk"
      },
      "source": [
        "# Stopwords pickle\n",
        "stp = open(path+'bangla_stopwords.txt','r',encoding='utf-8').read().split()\n",
        "# open a file, where you ant to store the data\n",
        "file = open(path+'bangla_stopwords.pkl', 'wb')\n",
        "# dump information to that file\n",
        "pickle.dump(stp, file)"
      ],
      "execution_count": null,
      "outputs": []
    },
    {
      "cell_type": "code",
      "metadata": {
        "id": "bjetvNZG6dAL",
        "colab": {
          "base_uri": "https://localhost:8080/"
        },
        "outputId": "f269bb85-9f6c-4f3d-bf72-79577af8ed78"
      },
      "source": [
        "stp = open(path+'bangla_stopwords.pkl','rb')\n",
        "stp = pickle.load(stp)\n",
        "len(stp)"
      ],
      "execution_count": null,
      "outputs": [
        {
          "output_type": "execute_result",
          "data": {
            "text/plain": [
              "398"
            ]
          },
          "metadata": {},
          "execution_count": 15
        }
      ]
    },
    {
      "cell_type": "markdown",
      "metadata": {
        "id": "5_cNNTmL5w-J"
      },
      "source": [
        "## Handle Low Length Documents"
      ]
    },
    {
      "cell_type": "code",
      "metadata": {
        "id": "PCVoq9WZ53Y3",
        "colab": {
          "base_uri": "https://localhost:8080/"
        },
        "outputId": "da40cbe0-638c-4c02-f428-39a0fb70e5ad"
      },
      "source": [
        "# Calculate the Length of each Document\n",
        "data['Length'] = data.cleaned.apply(lambda x:len(x.split()))\n",
        "\n",
        "# Remove the Documents with least words\n",
        "dataset = data.loc[data.Length>2]\n",
        "dataset = dataset.reset_index(drop = True)\n",
        "print(\"After Cleaning:\",\"\\nRemoved {} Small Documents\".format(len(data)-len(dataset)),\n",
        "      \"\\nTotal Remaining Documents:\",len(dataset))"
      ],
      "execution_count": null,
      "outputs": [
        {
          "output_type": "stream",
          "name": "stdout",
          "text": [
            "After Cleaning: \n",
            "Removed 186 Small Documents \n",
            "Total Remaining Documents: 10321\n"
          ]
        },
        {
          "output_type": "stream",
          "name": "stderr",
          "text": [
            "/usr/local/lib/python3.7/dist-packages/ipykernel_launcher.py:2: SettingWithCopyWarning: \n",
            "A value is trying to be set on a copy of a slice from a DataFrame.\n",
            "Try using .loc[row_indexer,col_indexer] = value instead\n",
            "\n",
            "See the caveats in the documentation: https://pandas.pydata.org/pandas-docs/stable/user_guide/indexing.html#returning-a-view-versus-a-copy\n",
            "  \n"
          ]
        }
      ]
    },
    {
      "cell_type": "code",
      "source": [
        "dataset"
      ],
      "metadata": {
        "colab": {
          "base_uri": "https://localhost:8080/",
          "height": 424
        },
        "id": "64gHSWggZE0V",
        "outputId": "70a21fdd-66c9-4606-beed-cdcc49130a5e"
      },
      "execution_count": null,
      "outputs": [
        {
          "output_type": "execute_result",
          "data": {
            "text/plain": [
              "                                                headline label  \\\n",
              "0                                  রোনালদোর অবাক করা গোল  real   \n",
              "1      বঙ্গবন্ধুর ৭ মার্চের ভাষণ নিয়ে হবে সিনেমা, নাম...  real   \n",
              "2      প্রাথমিকের শিক্ষার্থীদেরও টিকা দেওয়া হবে: শিক্...  real   \n",
              "3                       সৌদির সঙ্গে সংলাপ চলবে: এরদোগান   real   \n",
              "4                            পুলিশের ৯ উইকেট নিলেন তন্ময়  real   \n",
              "...                                                  ...   ...   \n",
              "10316       তালাকের ৫ বছর পর শ্বশুরবাড়িতে প্রবাসীর মরদেহ  real   \n",
              "10317                বান্দরবানে পালিত হচ্ছে মধু পূর্ণিমা  real   \n",
              "10318  মাজেদাকে ধরিয়ে দিয়ে ১০ হাজার টাকা পুরস্কার নিল...  real   \n",
              "10319  মন্ত্রিসভায় চূড়ান্ত অনুমোদনের অপেক্ষায় টেলিযোগ...  real   \n",
              "10320                                        ফুল ঝরে পড়ে  real   \n",
              "\n",
              "                                                 cleaned  Length  \n",
              "0                                      রোনালদোর অবাক গোল       3  \n",
              "1              বঙ্গবন্ধুর ৭ মার্চের ভাষণ সিনেমা নাম মাইক       7  \n",
              "2           প্রাথমিকের শিক্ষার্থীদেরও টিকা শিক্ষামন্ত্রী       4  \n",
              "3                               সৌদির সংলাপ চলবে এরদোগান       4  \n",
              "4                            পুলিশের ৯ উইকেট নিলেন তন্ময়       5  \n",
              "...                                                  ...     ...  \n",
              "10316          তালাকের ৫ বছর শ্বশুরবাড়িতে প্রবাসীর মরদেহ       6  \n",
              "10317                      বান্দরবানে পালিত মধু পূর্ণিমা       4  \n",
              "10318           মাজেদাকে ধরিয়ে দিয়ে ১০ টাকা পুরস্কার নিল       7  \n",
              "10319  মন্ত্রিসভায় চূড়ান্ত অনুমোদনের অপেক্ষায় টেলিযোগ...       6  \n",
              "10320                                        ফুল ঝরে পড়ে       3  \n",
              "\n",
              "[10321 rows x 4 columns]"
            ],
            "text/html": [
              "\n",
              "  <div id=\"df-ef082b66-1a38-48cd-af9b-afb89f97aa84\">\n",
              "    <div class=\"colab-df-container\">\n",
              "      <div>\n",
              "<style scoped>\n",
              "    .dataframe tbody tr th:only-of-type {\n",
              "        vertical-align: middle;\n",
              "    }\n",
              "\n",
              "    .dataframe tbody tr th {\n",
              "        vertical-align: top;\n",
              "    }\n",
              "\n",
              "    .dataframe thead th {\n",
              "        text-align: right;\n",
              "    }\n",
              "</style>\n",
              "<table border=\"1\" class=\"dataframe\">\n",
              "  <thead>\n",
              "    <tr style=\"text-align: right;\">\n",
              "      <th></th>\n",
              "      <th>headline</th>\n",
              "      <th>label</th>\n",
              "      <th>cleaned</th>\n",
              "      <th>Length</th>\n",
              "    </tr>\n",
              "  </thead>\n",
              "  <tbody>\n",
              "    <tr>\n",
              "      <th>0</th>\n",
              "      <td>রোনালদোর অবাক করা গোল</td>\n",
              "      <td>real</td>\n",
              "      <td>রোনালদোর অবাক গোল</td>\n",
              "      <td>3</td>\n",
              "    </tr>\n",
              "    <tr>\n",
              "      <th>1</th>\n",
              "      <td>বঙ্গবন্ধুর ৭ মার্চের ভাষণ নিয়ে হবে সিনেমা, নাম...</td>\n",
              "      <td>real</td>\n",
              "      <td>বঙ্গবন্ধুর ৭ মার্চের ভাষণ সিনেমা নাম মাইক</td>\n",
              "      <td>7</td>\n",
              "    </tr>\n",
              "    <tr>\n",
              "      <th>2</th>\n",
              "      <td>প্রাথমিকের শিক্ষার্থীদেরও টিকা দেওয়া হবে: শিক্...</td>\n",
              "      <td>real</td>\n",
              "      <td>প্রাথমিকের শিক্ষার্থীদেরও টিকা শিক্ষামন্ত্রী</td>\n",
              "      <td>4</td>\n",
              "    </tr>\n",
              "    <tr>\n",
              "      <th>3</th>\n",
              "      <td>সৌদির সঙ্গে সংলাপ চলবে: এরদোগান</td>\n",
              "      <td>real</td>\n",
              "      <td>সৌদির সংলাপ চলবে এরদোগান</td>\n",
              "      <td>4</td>\n",
              "    </tr>\n",
              "    <tr>\n",
              "      <th>4</th>\n",
              "      <td>পুলিশের ৯ উইকেট নিলেন তন্ময়</td>\n",
              "      <td>real</td>\n",
              "      <td>পুলিশের ৯ উইকেট নিলেন তন্ময়</td>\n",
              "      <td>5</td>\n",
              "    </tr>\n",
              "    <tr>\n",
              "      <th>...</th>\n",
              "      <td>...</td>\n",
              "      <td>...</td>\n",
              "      <td>...</td>\n",
              "      <td>...</td>\n",
              "    </tr>\n",
              "    <tr>\n",
              "      <th>10316</th>\n",
              "      <td>তালাকের ৫ বছর পর শ্বশুরবাড়িতে প্রবাসীর মরদেহ</td>\n",
              "      <td>real</td>\n",
              "      <td>তালাকের ৫ বছর শ্বশুরবাড়িতে প্রবাসীর মরদেহ</td>\n",
              "      <td>6</td>\n",
              "    </tr>\n",
              "    <tr>\n",
              "      <th>10317</th>\n",
              "      <td>বান্দরবানে পালিত হচ্ছে মধু পূর্ণিমা</td>\n",
              "      <td>real</td>\n",
              "      <td>বান্দরবানে পালিত মধু পূর্ণিমা</td>\n",
              "      <td>4</td>\n",
              "    </tr>\n",
              "    <tr>\n",
              "      <th>10318</th>\n",
              "      <td>মাজেদাকে ধরিয়ে দিয়ে ১০ হাজার টাকা পুরস্কার নিল...</td>\n",
              "      <td>real</td>\n",
              "      <td>মাজেদাকে ধরিয়ে দিয়ে ১০ টাকা পুরস্কার নিল</td>\n",
              "      <td>7</td>\n",
              "    </tr>\n",
              "    <tr>\n",
              "      <th>10319</th>\n",
              "      <td>মন্ত্রিসভায় চূড়ান্ত অনুমোদনের অপেক্ষায় টেলিযোগ...</td>\n",
              "      <td>real</td>\n",
              "      <td>মন্ত্রিসভায় চূড়ান্ত অনুমোদনের অপেক্ষায় টেলিযোগ...</td>\n",
              "      <td>6</td>\n",
              "    </tr>\n",
              "    <tr>\n",
              "      <th>10320</th>\n",
              "      <td>ফুল ঝরে পড়ে</td>\n",
              "      <td>real</td>\n",
              "      <td>ফুল ঝরে পড়ে</td>\n",
              "      <td>3</td>\n",
              "    </tr>\n",
              "  </tbody>\n",
              "</table>\n",
              "<p>10321 rows × 4 columns</p>\n",
              "</div>\n",
              "      <button class=\"colab-df-convert\" onclick=\"convertToInteractive('df-ef082b66-1a38-48cd-af9b-afb89f97aa84')\"\n",
              "              title=\"Convert this dataframe to an interactive table.\"\n",
              "              style=\"display:none;\">\n",
              "        \n",
              "  <svg xmlns=\"http://www.w3.org/2000/svg\" height=\"24px\"viewBox=\"0 0 24 24\"\n",
              "       width=\"24px\">\n",
              "    <path d=\"M0 0h24v24H0V0z\" fill=\"none\"/>\n",
              "    <path d=\"M18.56 5.44l.94 2.06.94-2.06 2.06-.94-2.06-.94-.94-2.06-.94 2.06-2.06.94zm-11 1L8.5 8.5l.94-2.06 2.06-.94-2.06-.94L8.5 2.5l-.94 2.06-2.06.94zm10 10l.94 2.06.94-2.06 2.06-.94-2.06-.94-.94-2.06-.94 2.06-2.06.94z\"/><path d=\"M17.41 7.96l-1.37-1.37c-.4-.4-.92-.59-1.43-.59-.52 0-1.04.2-1.43.59L10.3 9.45l-7.72 7.72c-.78.78-.78 2.05 0 2.83L4 21.41c.39.39.9.59 1.41.59.51 0 1.02-.2 1.41-.59l7.78-7.78 2.81-2.81c.8-.78.8-2.07 0-2.86zM5.41 20L4 18.59l7.72-7.72 1.47 1.35L5.41 20z\"/>\n",
              "  </svg>\n",
              "      </button>\n",
              "      \n",
              "  <style>\n",
              "    .colab-df-container {\n",
              "      display:flex;\n",
              "      flex-wrap:wrap;\n",
              "      gap: 12px;\n",
              "    }\n",
              "\n",
              "    .colab-df-convert {\n",
              "      background-color: #E8F0FE;\n",
              "      border: none;\n",
              "      border-radius: 50%;\n",
              "      cursor: pointer;\n",
              "      display: none;\n",
              "      fill: #1967D2;\n",
              "      height: 32px;\n",
              "      padding: 0 0 0 0;\n",
              "      width: 32px;\n",
              "    }\n",
              "\n",
              "    .colab-df-convert:hover {\n",
              "      background-color: #E2EBFA;\n",
              "      box-shadow: 0px 1px 2px rgba(60, 64, 67, 0.3), 0px 1px 3px 1px rgba(60, 64, 67, 0.15);\n",
              "      fill: #174EA6;\n",
              "    }\n",
              "\n",
              "    [theme=dark] .colab-df-convert {\n",
              "      background-color: #3B4455;\n",
              "      fill: #D2E3FC;\n",
              "    }\n",
              "\n",
              "    [theme=dark] .colab-df-convert:hover {\n",
              "      background-color: #434B5C;\n",
              "      box-shadow: 0px 1px 3px 1px rgba(0, 0, 0, 0.15);\n",
              "      filter: drop-shadow(0px 1px 2px rgba(0, 0, 0, 0.3));\n",
              "      fill: #FFFFFF;\n",
              "    }\n",
              "  </style>\n",
              "\n",
              "      <script>\n",
              "        const buttonEl =\n",
              "          document.querySelector('#df-ef082b66-1a38-48cd-af9b-afb89f97aa84 button.colab-df-convert');\n",
              "        buttonEl.style.display =\n",
              "          google.colab.kernel.accessAllowed ? 'block' : 'none';\n",
              "\n",
              "        async function convertToInteractive(key) {\n",
              "          const element = document.querySelector('#df-ef082b66-1a38-48cd-af9b-afb89f97aa84');\n",
              "          const dataTable =\n",
              "            await google.colab.kernel.invokeFunction('convertToInteractive',\n",
              "                                                     [key], {});\n",
              "          if (!dataTable) return;\n",
              "\n",
              "          const docLinkHtml = 'Like what you see? Visit the ' +\n",
              "            '<a target=\"_blank\" href=https://colab.research.google.com/notebooks/data_table.ipynb>data table notebook</a>'\n",
              "            + ' to learn more about interactive tables.';\n",
              "          element.innerHTML = '';\n",
              "          dataTable['output_type'] = 'display_data';\n",
              "          await google.colab.output.renderOutput(dataTable, element);\n",
              "          const docLink = document.createElement('div');\n",
              "          docLink.innerHTML = docLinkHtml;\n",
              "          element.appendChild(docLink);\n",
              "        }\n",
              "      </script>\n",
              "    </div>\n",
              "  </div>\n",
              "  "
            ]
          },
          "metadata": {},
          "execution_count": 17
        }
      ]
    },
    {
      "cell_type": "code",
      "metadata": {
        "id": "_spgtq0VY3QH"
      },
      "source": [
        "# Save the Cleaned data for reuse\n",
        "dataset.to_csv(dataset_path+'cleaned_news.csv')"
      ],
      "execution_count": null,
      "outputs": []
    },
    {
      "cell_type": "code",
      "metadata": {
        "id": "fUZv0LqMZViI",
        "colab": {
          "base_uri": "https://localhost:8080/"
        },
        "outputId": "1267ef25-b392-45ef-d676-c4703fd50dfb"
      },
      "source": [
        "# Load the Cleaned News\n",
        "dataset = pd.read_csv(dataset_path+'cleaned_news.csv')\n",
        "dataset.columns"
      ],
      "execution_count": null,
      "outputs": [
        {
          "output_type": "execute_result",
          "data": {
            "text/plain": [
              "Index(['Unnamed: 0', 'headline', 'label', 'cleaned', 'Length'], dtype='object')"
            ]
          },
          "metadata": {},
          "execution_count": 19
        }
      ]
    },
    {
      "cell_type": "code",
      "source": [
        "dataset"
      ],
      "metadata": {
        "colab": {
          "base_uri": "https://localhost:8080/",
          "height": 424
        },
        "id": "-atmVGnY8erl",
        "outputId": "5f2b4bd3-1560-4ab9-9877-8b5c46023e30"
      },
      "execution_count": null,
      "outputs": [
        {
          "output_type": "execute_result",
          "data": {
            "text/plain": [
              "       Unnamed: 0                                           headline label  \\\n",
              "0               0                              রোনালদোর অবাক করা গোল  real   \n",
              "1               1  বঙ্গবন্ধুর ৭ মার্চের ভাষণ নিয়ে হবে সিনেমা, নাম...  real   \n",
              "2               2  প্রাথমিকের শিক্ষার্থীদেরও টিকা দেওয়া হবে: শিক্...  real   \n",
              "3               3                   সৌদির সঙ্গে সংলাপ চলবে: এরদোগান   real   \n",
              "4               4                        পুলিশের ৯ উইকেট নিলেন তন্ময়  real   \n",
              "...           ...                                                ...   ...   \n",
              "10316       10316       তালাকের ৫ বছর পর শ্বশুরবাড়িতে প্রবাসীর মরদেহ  real   \n",
              "10317       10317                বান্দরবানে পালিত হচ্ছে মধু পূর্ণিমা  real   \n",
              "10318       10318  মাজেদাকে ধরিয়ে দিয়ে ১০ হাজার টাকা পুরস্কার নিল...  real   \n",
              "10319       10319  মন্ত্রিসভায় চূড়ান্ত অনুমোদনের অপেক্ষায় টেলিযোগ...  real   \n",
              "10320       10320                                        ফুল ঝরে পড়ে  real   \n",
              "\n",
              "                                                 cleaned  Length  \n",
              "0                                      রোনালদোর অবাক গোল       3  \n",
              "1              বঙ্গবন্ধুর ৭ মার্চের ভাষণ সিনেমা নাম মাইক       7  \n",
              "2           প্রাথমিকের শিক্ষার্থীদেরও টিকা শিক্ষামন্ত্রী       4  \n",
              "3                               সৌদির সংলাপ চলবে এরদোগান       4  \n",
              "4                            পুলিশের ৯ উইকেট নিলেন তন্ময়       5  \n",
              "...                                                  ...     ...  \n",
              "10316          তালাকের ৫ বছর শ্বশুরবাড়িতে প্রবাসীর মরদেহ       6  \n",
              "10317                      বান্দরবানে পালিত মধু পূর্ণিমা       4  \n",
              "10318           মাজেদাকে ধরিয়ে দিয়ে ১০ টাকা পুরস্কার নিল       7  \n",
              "10319  মন্ত্রিসভায় চূড়ান্ত অনুমোদনের অপেক্ষায় টেলিযোগ...       6  \n",
              "10320                                        ফুল ঝরে পড়ে       3  \n",
              "\n",
              "[10321 rows x 5 columns]"
            ],
            "text/html": [
              "\n",
              "  <div id=\"df-ff2d8117-7b1a-4d7b-b11c-2ca38a0d7f3c\">\n",
              "    <div class=\"colab-df-container\">\n",
              "      <div>\n",
              "<style scoped>\n",
              "    .dataframe tbody tr th:only-of-type {\n",
              "        vertical-align: middle;\n",
              "    }\n",
              "\n",
              "    .dataframe tbody tr th {\n",
              "        vertical-align: top;\n",
              "    }\n",
              "\n",
              "    .dataframe thead th {\n",
              "        text-align: right;\n",
              "    }\n",
              "</style>\n",
              "<table border=\"1\" class=\"dataframe\">\n",
              "  <thead>\n",
              "    <tr style=\"text-align: right;\">\n",
              "      <th></th>\n",
              "      <th>Unnamed: 0</th>\n",
              "      <th>headline</th>\n",
              "      <th>label</th>\n",
              "      <th>cleaned</th>\n",
              "      <th>Length</th>\n",
              "    </tr>\n",
              "  </thead>\n",
              "  <tbody>\n",
              "    <tr>\n",
              "      <th>0</th>\n",
              "      <td>0</td>\n",
              "      <td>রোনালদোর অবাক করা গোল</td>\n",
              "      <td>real</td>\n",
              "      <td>রোনালদোর অবাক গোল</td>\n",
              "      <td>3</td>\n",
              "    </tr>\n",
              "    <tr>\n",
              "      <th>1</th>\n",
              "      <td>1</td>\n",
              "      <td>বঙ্গবন্ধুর ৭ মার্চের ভাষণ নিয়ে হবে সিনেমা, নাম...</td>\n",
              "      <td>real</td>\n",
              "      <td>বঙ্গবন্ধুর ৭ মার্চের ভাষণ সিনেমা নাম মাইক</td>\n",
              "      <td>7</td>\n",
              "    </tr>\n",
              "    <tr>\n",
              "      <th>2</th>\n",
              "      <td>2</td>\n",
              "      <td>প্রাথমিকের শিক্ষার্থীদেরও টিকা দেওয়া হবে: শিক্...</td>\n",
              "      <td>real</td>\n",
              "      <td>প্রাথমিকের শিক্ষার্থীদেরও টিকা শিক্ষামন্ত্রী</td>\n",
              "      <td>4</td>\n",
              "    </tr>\n",
              "    <tr>\n",
              "      <th>3</th>\n",
              "      <td>3</td>\n",
              "      <td>সৌদির সঙ্গে সংলাপ চলবে: এরদোগান</td>\n",
              "      <td>real</td>\n",
              "      <td>সৌদির সংলাপ চলবে এরদোগান</td>\n",
              "      <td>4</td>\n",
              "    </tr>\n",
              "    <tr>\n",
              "      <th>4</th>\n",
              "      <td>4</td>\n",
              "      <td>পুলিশের ৯ উইকেট নিলেন তন্ময়</td>\n",
              "      <td>real</td>\n",
              "      <td>পুলিশের ৯ উইকেট নিলেন তন্ময়</td>\n",
              "      <td>5</td>\n",
              "    </tr>\n",
              "    <tr>\n",
              "      <th>...</th>\n",
              "      <td>...</td>\n",
              "      <td>...</td>\n",
              "      <td>...</td>\n",
              "      <td>...</td>\n",
              "      <td>...</td>\n",
              "    </tr>\n",
              "    <tr>\n",
              "      <th>10316</th>\n",
              "      <td>10316</td>\n",
              "      <td>তালাকের ৫ বছর পর শ্বশুরবাড়িতে প্রবাসীর মরদেহ</td>\n",
              "      <td>real</td>\n",
              "      <td>তালাকের ৫ বছর শ্বশুরবাড়িতে প্রবাসীর মরদেহ</td>\n",
              "      <td>6</td>\n",
              "    </tr>\n",
              "    <tr>\n",
              "      <th>10317</th>\n",
              "      <td>10317</td>\n",
              "      <td>বান্দরবানে পালিত হচ্ছে মধু পূর্ণিমা</td>\n",
              "      <td>real</td>\n",
              "      <td>বান্দরবানে পালিত মধু পূর্ণিমা</td>\n",
              "      <td>4</td>\n",
              "    </tr>\n",
              "    <tr>\n",
              "      <th>10318</th>\n",
              "      <td>10318</td>\n",
              "      <td>মাজেদাকে ধরিয়ে দিয়ে ১০ হাজার টাকা পুরস্কার নিল...</td>\n",
              "      <td>real</td>\n",
              "      <td>মাজেদাকে ধরিয়ে দিয়ে ১০ টাকা পুরস্কার নিল</td>\n",
              "      <td>7</td>\n",
              "    </tr>\n",
              "    <tr>\n",
              "      <th>10319</th>\n",
              "      <td>10319</td>\n",
              "      <td>মন্ত্রিসভায় চূড়ান্ত অনুমোদনের অপেক্ষায় টেলিযোগ...</td>\n",
              "      <td>real</td>\n",
              "      <td>মন্ত্রিসভায় চূড়ান্ত অনুমোদনের অপেক্ষায় টেলিযোগ...</td>\n",
              "      <td>6</td>\n",
              "    </tr>\n",
              "    <tr>\n",
              "      <th>10320</th>\n",
              "      <td>10320</td>\n",
              "      <td>ফুল ঝরে পড়ে</td>\n",
              "      <td>real</td>\n",
              "      <td>ফুল ঝরে পড়ে</td>\n",
              "      <td>3</td>\n",
              "    </tr>\n",
              "  </tbody>\n",
              "</table>\n",
              "<p>10321 rows × 5 columns</p>\n",
              "</div>\n",
              "      <button class=\"colab-df-convert\" onclick=\"convertToInteractive('df-ff2d8117-7b1a-4d7b-b11c-2ca38a0d7f3c')\"\n",
              "              title=\"Convert this dataframe to an interactive table.\"\n",
              "              style=\"display:none;\">\n",
              "        \n",
              "  <svg xmlns=\"http://www.w3.org/2000/svg\" height=\"24px\"viewBox=\"0 0 24 24\"\n",
              "       width=\"24px\">\n",
              "    <path d=\"M0 0h24v24H0V0z\" fill=\"none\"/>\n",
              "    <path d=\"M18.56 5.44l.94 2.06.94-2.06 2.06-.94-2.06-.94-.94-2.06-.94 2.06-2.06.94zm-11 1L8.5 8.5l.94-2.06 2.06-.94-2.06-.94L8.5 2.5l-.94 2.06-2.06.94zm10 10l.94 2.06.94-2.06 2.06-.94-2.06-.94-.94-2.06-.94 2.06-2.06.94z\"/><path d=\"M17.41 7.96l-1.37-1.37c-.4-.4-.92-.59-1.43-.59-.52 0-1.04.2-1.43.59L10.3 9.45l-7.72 7.72c-.78.78-.78 2.05 0 2.83L4 21.41c.39.39.9.59 1.41.59.51 0 1.02-.2 1.41-.59l7.78-7.78 2.81-2.81c.8-.78.8-2.07 0-2.86zM5.41 20L4 18.59l7.72-7.72 1.47 1.35L5.41 20z\"/>\n",
              "  </svg>\n",
              "      </button>\n",
              "      \n",
              "  <style>\n",
              "    .colab-df-container {\n",
              "      display:flex;\n",
              "      flex-wrap:wrap;\n",
              "      gap: 12px;\n",
              "    }\n",
              "\n",
              "    .colab-df-convert {\n",
              "      background-color: #E8F0FE;\n",
              "      border: none;\n",
              "      border-radius: 50%;\n",
              "      cursor: pointer;\n",
              "      display: none;\n",
              "      fill: #1967D2;\n",
              "      height: 32px;\n",
              "      padding: 0 0 0 0;\n",
              "      width: 32px;\n",
              "    }\n",
              "\n",
              "    .colab-df-convert:hover {\n",
              "      background-color: #E2EBFA;\n",
              "      box-shadow: 0px 1px 2px rgba(60, 64, 67, 0.3), 0px 1px 3px 1px rgba(60, 64, 67, 0.15);\n",
              "      fill: #174EA6;\n",
              "    }\n",
              "\n",
              "    [theme=dark] .colab-df-convert {\n",
              "      background-color: #3B4455;\n",
              "      fill: #D2E3FC;\n",
              "    }\n",
              "\n",
              "    [theme=dark] .colab-df-convert:hover {\n",
              "      background-color: #434B5C;\n",
              "      box-shadow: 0px 1px 3px 1px rgba(0, 0, 0, 0.15);\n",
              "      filter: drop-shadow(0px 1px 2px rgba(0, 0, 0, 0.3));\n",
              "      fill: #FFFFFF;\n",
              "    }\n",
              "  </style>\n",
              "\n",
              "      <script>\n",
              "        const buttonEl =\n",
              "          document.querySelector('#df-ff2d8117-7b1a-4d7b-b11c-2ca38a0d7f3c button.colab-df-convert');\n",
              "        buttonEl.style.display =\n",
              "          google.colab.kernel.accessAllowed ? 'block' : 'none';\n",
              "\n",
              "        async function convertToInteractive(key) {\n",
              "          const element = document.querySelector('#df-ff2d8117-7b1a-4d7b-b11c-2ca38a0d7f3c');\n",
              "          const dataTable =\n",
              "            await google.colab.kernel.invokeFunction('convertToInteractive',\n",
              "                                                     [key], {});\n",
              "          if (!dataTable) return;\n",
              "\n",
              "          const docLinkHtml = 'Like what you see? Visit the ' +\n",
              "            '<a target=\"_blank\" href=https://colab.research.google.com/notebooks/data_table.ipynb>data table notebook</a>'\n",
              "            + ' to learn more about interactive tables.';\n",
              "          element.innerHTML = '';\n",
              "          dataTable['output_type'] = 'display_data';\n",
              "          await google.colab.output.renderOutput(dataTable, element);\n",
              "          const docLink = document.createElement('div');\n",
              "          docLink.innerHTML = docLinkHtml;\n",
              "          element.appendChild(docLink);\n",
              "        }\n",
              "      </script>\n",
              "    </div>\n",
              "  </div>\n",
              "  "
            ]
          },
          "metadata": {},
          "execution_count": 20
        }
      ]
    },
    {
      "cell_type": "markdown",
      "metadata": {
        "id": "HgW31ZhL5IwU"
      },
      "source": [
        "#Document Length Distribution"
      ]
    },
    {
      "cell_type": "code",
      "metadata": {
        "id": "tj0bVmRn5M50",
        "colab": {
          "base_uri": "https://localhost:8080/",
          "height": 462
        },
        "outputId": "ba285ae1-a31d-4da5-aa83-fbf45e08b8c5"
      },
      "source": [
        "import matplotlib\n",
        "matplotlib.rc_file_defaults()\n",
        "frequency = dict()\n",
        "for i in dataset.Length:\n",
        "    frequency[i] = frequency.get(i, 0)+1\n",
        "\n",
        "plt.figure(figsize = (6,4))\n",
        "plt.bar(frequency.keys(), frequency.values(), color=(0.2, 0.4, 0.6, 0.6))\n",
        "plt.xlim(1, 20)\n",
        "# in this notbook color is not working but it should work.\n",
        "plt.xlabel('Length of the Documents')\n",
        "plt.ylabel('Frequency')\n",
        "plt.title('Length-Frequency Distribution')\n",
        "#plt.savefig(path+'len_dist.png',dpi = 1000,bbox_inches ='tight')\n",
        "plt.show()\n",
        "print(f\"Maximum Length of a Document: {max(dataset.Length)}\")\n",
        "print(f\"Minimum Length of a Document: {min(dataset.Length)}\")\n",
        "print(f\"Average Length of a Document: {round(np.mean(dataset.Length),0)}\")\n"
      ],
      "execution_count": null,
      "outputs": [
        {
          "output_type": "display_data",
          "data": {
            "text/plain": [
              "<Figure size 600x400 with 1 Axes>"
            ],
            "image/png": "[encoded data removed]"
          },
          "metadata": {}
        },
        {
          "output_type": "stream",
          "name": "stdout",
          "text": [
            "Maximum Length of a Document: 135\n",
            "Minimum Length of a Document: 3\n",
            "Average Length of a Document: 6.0\n"
          ]
        }
      ]
    },
    {
      "cell_type": "markdown",
      "metadata": {
        "id": "pImiPM1IRBsE"
      },
      "source": [
        "# Dataset Summary"
      ]
    },
    {
      "cell_type": "code",
      "metadata": {
        "id": "0m3e8DctREzS",
        "colab": {
          "base_uri": "https://localhost:8080/"
        },
        "outputId": "d297cdad-7edf-4f58-c41c-625066035c8b"
      },
      "source": [
        "def data_summary(dataset):\n",
        "  '''\n",
        "  This function will print the summary of the dataset\n",
        "\n",
        "  Args:\n",
        "  dataset: cleaned texts\n",
        "\n",
        "  returns:\n",
        "  documents: Number of document per class\n",
        "  words: Number of words per class\n",
        "  u_words: Number of unique words per class\n",
        "  class_label: name of the categories\n",
        "  '''\n",
        "  documents = []\n",
        "  words = []\n",
        "  u_words = []\n",
        "  #total_u_word = [word.strip().lower() for t in list(dataset.cleaned) for word in t.strip().split()]\n",
        "  # find class names\n",
        "  class_label = [k for k,v in dataset.label.value_counts().to_dict().items()]\n",
        "  for label in class_label:\n",
        "    word_list = [word.strip().lower() for t in list(dataset[dataset.label==label].cleaned) for word in t.strip().split()]\n",
        "    counts = dict()\n",
        "    for word in word_list:\n",
        "      counts[word] = counts.get(word, 0)+1\n",
        "    # sort the dictionary of word list\n",
        "    ordered = sorted(counts.items(), key= lambda item: item[1],reverse = True)\n",
        "    # Documents per class\n",
        "    documents.append(len(list(dataset[dataset.label==label].cleaned)))\n",
        "    # Total Word per class\n",
        "    words.append(len(word_list))\n",
        "    # Unique words per class\n",
        "    u_words.append(len(np.unique(word_list)))\n",
        "\n",
        "    print(\"\\nClass Name : \",label)\n",
        "    print(\"Number of Documents:{}\".format(len(list(dataset[dataset.label==label].cleaned))))\n",
        "    print(\"Number of Words:{}\".format(len(word_list)))\n",
        "    print(\"Number of Unique Words:{}\".format(len(np.unique(word_list))))\n",
        "    print(\"Most Frequent Words:\\n\")\n",
        "    for k,v in ordered[:10]:\n",
        "      print(\"{}\\t{}\".format(k,v))\n",
        "  return documents,words,u_words,class_label\n",
        "\n",
        "# pass the whole dataset into the function\n",
        "\n",
        "documents,words,u_words,class_names = data_summary(dataset)"
      ],
      "execution_count": null,
      "outputs": [
        {
          "output_type": "stream",
          "name": "stdout",
          "text": [
            "\n",
            "Class Name :  real\n",
            "Number of Documents:8043\n",
            "Number of Words:45983\n",
            "Number of Unique Words:11578\n",
            "Most Frequent Words:\n",
            "\n",
            "নিহত\t331\n",
            "বাংলাদেশ\t221\n",
            "আটক\t204\n",
            "মৃত্যু\t201\n",
            "৩\t194\n",
            "বিএনপি\t153\n",
            "২\t153\n",
            "সেপ্টেম্বর\t149\n",
            "উদ্ধার\t148\n",
            "প্রধানমন্ত্রী\t125\n",
            "\n",
            "Class Name :  fake\n",
            "Number of Documents:2278\n",
            "Number of Words:16636\n",
            "Number of Unique Words:5184\n",
            "Most Frequent Words:\n",
            "\n",
            "দৈনিক\t213\n",
            "মতিকণ্ঠ\t213\n",
            "এক\t100\n",
            "হয়ে\t74\n",
            "যেভাবে\t52\n",
            "কারণে\t50\n",
            "সাথে\t49\n",
            "১০টি\t47\n",
            "দিয়ে\t45\n",
            "টাকা\t43\n"
          ]
        }
      ]
    },
    {
      "cell_type": "code",
      "metadata": {
        "id": "foyQX8RRWnZ8",
        "colab": {
          "base_uri": "https://localhost:8080/",
          "height": 112
        },
        "outputId": "6461ca8d-6fb4-4945-a185-0a6c39947bd5"
      },
      "source": [
        "data_matrix = pd.DataFrame({'Total Documents':documents,\n",
        "                            'Total Words':words,\n",
        "                            'Unique Words':u_words,\n",
        "                            'Class Names':class_names})\n",
        "data_matrix"
      ],
      "execution_count": null,
      "outputs": [
        {
          "output_type": "execute_result",
          "data": {
            "text/plain": [
              "   Total Documents  Total Words  Unique Words Class Names\n",
              "0             8043        45983         11578        real\n",
              "1             2278        16636          5184        fake"
            ],
            "text/html": [
              "\n",
              "  <div id=\"df-5afd0961-9f9d-4704-a19e-63032fd93260\">\n",
              "    <div class=\"colab-df-container\">\n",
              "      <div>\n",
              "<style scoped>\n",
              "    .dataframe tbody tr th:only-of-type {\n",
              "        vertical-align: middle;\n",
              "    }\n",
              "\n",
              "    .dataframe tbody tr th {\n",
              "        vertical-align: top;\n",
              "    }\n",
              "\n",
              "    .dataframe thead th {\n",
              "        text-align: right;\n",
              "    }\n",
              "</style>\n",
              "<table border=\"1\" class=\"dataframe\">\n",
              "  <thead>\n",
              "    <tr style=\"text-align: right;\">\n",
              "      <th></th>\n",
              "      <th>Total Documents</th>\n",
              "      <th>Total Words</th>\n",
              "      <th>Unique Words</th>\n",
              "      <th>Class Names</th>\n",
              "    </tr>\n",
              "  </thead>\n",
              "  <tbody>\n",
              "    <tr>\n",
              "      <th>0</th>\n",
              "      <td>8043</td>\n",
              "      <td>45983</td>\n",
              "      <td>11578</td>\n",
              "      <td>real</td>\n",
              "    </tr>\n",
              "    <tr>\n",
              "      <th>1</th>\n",
              "      <td>2278</td>\n",
              "      <td>16636</td>\n",
              "      <td>5184</td>\n",
              "      <td>fake</td>\n",
              "    </tr>\n",
              "  </tbody>\n",
              "</table>\n",
              "</div>\n",
              "      <button class=\"colab-df-convert\" onclick=\"convertToInteractive('df-5afd0961-9f9d-4704-a19e-63032fd93260')\"\n",
              "              title=\"Convert this dataframe to an interactive table.\"\n",
              "              style=\"display:none;\">\n",
              "        \n",
              "  <svg xmlns=\"http://www.w3.org/2000/svg\" height=\"24px\"viewBox=\"0 0 24 24\"\n",
              "       width=\"24px\">\n",
              "    <path d=\"M0 0h24v24H0V0z\" fill=\"none\"/>\n",
              "    <path d=\"M18.56 5.44l.94 2.06.94-2.06 2.06-.94-2.06-.94-.94-2.06-.94 2.06-2.06.94zm-11 1L8.5 8.5l.94-2.06 2.06-.94-2.06-.94L8.5 2.5l-.94 2.06-2.06.94zm10 10l.94 2.06.94-2.06 2.06-.94-2.06-.94-.94-2.06-.94 2.06-2.06.94z\"/><path d=\"M17.41 7.96l-1.37-1.37c-.4-.4-.92-.59-1.43-.59-.52 0-1.04.2-1.43.59L10.3 9.45l-7.72 7.72c-.78.78-.78 2.05 0 2.83L4 21.41c.39.39.9.59 1.41.59.51 0 1.02-.2 1.41-.59l7.78-7.78 2.81-2.81c.8-.78.8-2.07 0-2.86zM5.41 20L4 18.59l7.72-7.72 1.47 1.35L5.41 20z\"/>\n",
              "  </svg>\n",
              "      </button>\n",
              "      \n",
              "  <style>\n",
              "    .colab-df-container {\n",
              "      display:flex;\n",
              "      flex-wrap:wrap;\n",
              "      gap: 12px;\n",
              "    }\n",
              "\n",
              "    .colab-df-convert {\n",
              "      background-color: #E8F0FE;\n",
              "      border: none;\n",
              "      border-radius: 50%;\n",
              "      cursor: pointer;\n",
              "      display: none;\n",
              "      fill: #1967D2;\n",
              "      height: 32px;\n",
              "      padding: 0 0 0 0;\n",
              "      width: 32px;\n",
              "    }\n",
              "\n",
              "    .colab-df-convert:hover {\n",
              "      background-color: #E2EBFA;\n",
              "      box-shadow: 0px 1px 2px rgba(60, 64, 67, 0.3), 0px 1px 3px 1px rgba(60, 64, 67, 0.15);\n",
              "      fill: #174EA6;\n",
              "    }\n",
              "\n",
              "    [theme=dark] .colab-df-convert {\n",
              "      background-color: #3B4455;\n",
              "      fill: #D2E3FC;\n",
              "    }\n",
              "\n",
              "    [theme=dark] .colab-df-convert:hover {\n",
              "      background-color: #434B5C;\n",
              "      box-shadow: 0px 1px 3px 1px rgba(0, 0, 0, 0.15);\n",
              "      filter: drop-shadow(0px 1px 2px rgba(0, 0, 0, 0.3));\n",
              "      fill: #FFFFFF;\n",
              "    }\n",
              "  </style>\n",
              "\n",
              "      <script>\n",
              "        const buttonEl =\n",
              "          document.querySelector('#df-5afd0961-9f9d-4704-a19e-63032fd93260 button.colab-df-convert');\n",
              "        buttonEl.style.display =\n",
              "          google.colab.kernel.accessAllowed ? 'block' : 'none';\n",
              "\n",
              "        async function convertToInteractive(key) {\n",
              "          const element = document.querySelector('#df-5afd0961-9f9d-4704-a19e-63032fd93260');\n",
              "          const dataTable =\n",
              "            await google.colab.kernel.invokeFunction('convertToInteractive',\n",
              "                                                     [key], {});\n",
              "          if (!dataTable) return;\n",
              "\n",
              "          const docLinkHtml = 'Like what you see? Visit the ' +\n",
              "            '<a target=\"_blank\" href=https://colab.research.google.com/notebooks/data_table.ipynb>data table notebook</a>'\n",
              "            + ' to learn more about interactive tables.';\n",
              "          element.innerHTML = '';\n",
              "          dataTable['output_type'] = 'display_data';\n",
              "          await google.colab.output.renderOutput(dataTable, element);\n",
              "          const docLink = document.createElement('div');\n",
              "          docLink.innerHTML = docLinkHtml;\n",
              "          element.appendChild(docLink);\n",
              "        }\n",
              "      </script>\n",
              "    </div>\n",
              "  </div>\n",
              "  "
            ]
          },
          "metadata": {},
          "execution_count": 23
        }
      ]
    },
    {
      "cell_type": "markdown",
      "metadata": {
        "id": "W0a69zaVcutK"
      },
      "source": [
        "## Data Summary Visualization"
      ]
    },
    {
      "cell_type": "code",
      "metadata": {
        "id": "M1nueRICc0yO",
        "colab": {
          "base_uri": "https://localhost:8080/",
          "height": 789
        },
        "outputId": "8febca5a-c7d7-42c4-be05-60329cdf3553"
      },
      "source": [
        "sns.set()\n",
        "plt.figure(figsize =(10, 8))\n",
        "ax = plt.subplot()\n",
        "sns.heatmap(data_matrix.iloc[:,0:3], annot=True,fmt=\"d\", linewidths=0.5,linecolor = 'Black',cmap = \"YlGnBu\",ax = ax)\n",
        "# labels, title and ticks\n",
        "ax.set_ylabel('Class Names')\n",
        "ax.set_title('Data Statistics')\n",
        "y_label = [\"Total Documents\", \"Total Words\", \"Unique Words\"]\n",
        "ax.xaxis.set_ticklabels(y_label, rotation=45); ax.yaxis.set_ticklabels(class_names, rotation=45);\n",
        "ax.xaxis.tick_top()\n"
      ],
      "execution_count": null,
      "outputs": [
        {
          "output_type": "display_data",
          "data": {
            "text/plain": [
              "<Figure size 1000x800 with 2 Axes>"
            ],
            "image/png": "[encoded data removed]"
          },
          "metadata": {}
        }
      ]
    },
    {
      "cell_type": "markdown",
      "metadata": {
        "id": "3tA2UPuHdwj8"
      },
      "source": [
        "#Label Encoding and Dataset Splitting"
      ]
    },
    {
      "cell_type": "code",
      "metadata": {
        "id": "1TOvXC5gd02a"
      },
      "source": [
        "                   #===========================================================\n",
        "                   ################# Label Encoding Function ##################\n",
        "                   #===========================================================\n",
        "def label_encoding(dataset,bool):\n",
        "  '''\n",
        "  This function will convert categorical class names into a numeric label\n",
        "\n",
        "  Args:\n",
        "  dataset: A dataset\n",
        "  bool : a boolean (True or False)\n",
        "\n",
        "  returns:\n",
        "  labels: encoded labels\n",
        "  '''\n",
        "  le = LabelEncoder()\n",
        "  le.fit(dataset.label)\n",
        "  encoded_labels = le.transform(dataset.label)\n",
        "  labels = np.array(encoded_labels) # Converting into numpy array\n",
        "  class_names =le.classes_ ## Define the class names again\n",
        "  if bool == True:\n",
        "    print(color.BOLD+\"\\n\\t\\t\\t===== Label Encoding =====\"+color.END,\"\\nClass Names:-->\",le.classes_)\n",
        "  return labels\n",
        "\n",
        "                   #===========================================================\n",
        "                   ################# Dataset Splitting Function ###############\n",
        "                   #===========================================================\n",
        "\n",
        "def dataset_split(news,label):\n",
        "  '''\n",
        "  This function will split the dataset into Train-Test-Validation set\n",
        "\n",
        "  Args:\n",
        "  news: encoded texts\n",
        "  category: class names\n",
        "\n",
        "  returns:\n",
        "  X_train: Encoded Training News\n",
        "  X_valid: Encoded Validation News\n",
        "  X_test:  Encoded Test news\n",
        "  y_train: Encoded Training labels\n",
        "  y_valid: Encoded Validation labels\n",
        "  y_test:  Encoded Test labels\n",
        "  '''\n",
        "\n",
        "  X,X_test,y,y_test = train_test_split(news,label,train_size = 0.9,\n",
        "                                                  test_size = 0.1,random_state =0)\n",
        "  X_train,X_valid,y_train,y_valid = train_test_split(X,y,train_size = 0.8,\n",
        "                                                  test_size = 0.2,random_state =0)\n",
        "  print(color.BOLD+\"Feature Size :======>\"+color.END,X_train.shape[1])\n",
        "  print(color.BOLD+\"\\nDataset Distribution:\\n\"+color.END)\n",
        "  print(\"\\tSet Name\",\"\\t\\tSize\")\n",
        "  print(\"\\t========\\t\\t======\")\n",
        "\n",
        "  print(\"\\tFull\\t\\t\\t\",news.shape[0],\n",
        "        \"\\n\\tTraining\\t\\t\",X_train.shape[0],\n",
        "        \"\\n\\tTest\\t\\t\\t\",X_test.shape[0],\n",
        "        \"\\n\\tValidation\\t\\t\",X_valid.shape[0])\n",
        "\n",
        "  return X_train,X_valid,X_test,y_train,y_valid,y_test\n"
      ],
      "execution_count": null,
      "outputs": []
    },
    {
      "cell_type": "markdown",
      "metadata": {
        "id": "K3_QvYEEeOrQ"
      },
      "source": [
        "#Tokenizer"
      ]
    },
    {
      "cell_type": "code",
      "metadata": {
        "id": "1wYmxJ7UeQZ0",
        "colab": {
          "base_uri": "https://localhost:8080/"
        },
        "outputId": "23bcc255-d1ef-4326-d0a3-73dacba2ac9c"
      },
      "source": [
        "def encoded_texts(dataset,padding_length,max_words):\n",
        "\n",
        "  '''\n",
        "  This function will encoded the text into a sequence of numbers\n",
        "\n",
        "  Args:\n",
        "  dataset: a dataset\n",
        "  padding_length: maximum length of a encoded texte\n",
        "  max_words : Number of words\n",
        "\n",
        "  returns:\n",
        "  corpus: Number of encoded texts\n",
        "  labels: encoded labels\n",
        "  '''\n",
        "\n",
        "  tokenizer = Tokenizer(num_words = max_words, filters='!\"#$%&()*+,-./:;<=>?@[\\\\]^_`{|}~\\t\\n-',\n",
        "                      split=' ', char_level=False, oov_token='<oov>', document_count=0)\n",
        "\n",
        "\n",
        "\n",
        " # Fit the tokenizer\n",
        "  tokenizer.fit_on_texts(dataset.cleaned)\n",
        "  #============================== Tokenizer Info =================================\n",
        "  (word_counts,word_docs,word_index,document_count) = (tokenizer.word_counts,\n",
        "                                                       tokenizer.word_docs,\n",
        "                                                       tokenizer.word_index,\n",
        "                                                       tokenizer.document_count)\n",
        "  def tokenizer_info(mylist,bool):\n",
        "    ordered = sorted(mylist.items(), key= lambda item: item[1],reverse = bool)\n",
        "    for w,c in ordered[:10]:\n",
        "      print(w,\"\\t\",c)\n",
        "  #=============================== Print all the information =========================\n",
        "  print(color.BOLD+\"\\t\\t\\t====== Tokenizer Info ======\"+color.END)\n",
        "  print(\"Words --> Counts:\")\n",
        "  tokenizer_info(word_counts,bool =True )\n",
        "  print(\"\\nWords --> Documents:\")\n",
        "  tokenizer_info(word_docs,bool =True )\n",
        "  print(\"\\nWords --> Index:\")\n",
        "  tokenizer_info(word_index,bool =True )\n",
        "  print(\"\\nTotal Documents -->\",document_count)\n",
        "\n",
        "  #=========================== Convert string into list of integer indices =================\n",
        "  sequences = tokenizer.texts_to_sequences(dataset.cleaned)\n",
        "  word_index = tokenizer.word_index\n",
        "  print(color.BOLD+\"\\n\\t\\t\\t====== Encoded Sequences ======\"+color.END,\"\\nFound {} unique tokens\".format(len(word_index)))\n",
        "  print(dataset.cleaned[10],\"\\n\",sequences[10])\n",
        "\n",
        "  #==================================== Pad Sequences ==============================\n",
        "  corpus = keras.preprocessing.sequence.pad_sequences(sequences, value=0.0,\n",
        "                                                      padding='post', maxlen= padding_length)\n",
        "  print(\"\\n\\t\\t\\t====== Paded Sequences ======\\n\",dataset.cleaned[10],\"\\n\",corpus[10])\n",
        "\n",
        "  #=================================     Label Encoding ================================\n",
        "  labels = label_encoding(dataset,True)\n",
        "\n",
        "   # save the tokenizer into a pickle file\n",
        "  with open(path+'tokenizer.pickle', 'wb') as handle:\n",
        "    pickle.dump(tokenizer, handle, protocol=pickle.HIGHEST_PROTOCOL)\n",
        "\n",
        "  return corpus,labels\n",
        "\n",
        "#call the function\n",
        "num_words = 5000\n",
        "corpus,labels = encoded_texts(dataset,\n",
        "                                300,num_words)\n",
        "print(\"\\nShape of Encoded Corpus =====>\",corpus.shape)"
      ],
      "execution_count": null,
      "outputs": [
        {
          "output_type": "stream",
          "name": "stdout",
          "text": [
            "\u001b[1m\t\t\t====== Tokenizer Info ======\u001b[0m\n",
            "Words --> Counts:\n",
            "নিহত \t 340\n",
            "বাংলাদেশ \t 243\n",
            "আটক \t 226\n",
            "দৈনিক \t 214\n",
            "মতিকণ্ঠ \t 213\n",
            "মৃত্যু \t 202\n",
            "৩ \t 202\n",
            "এক \t 190\n",
            "বিএনপি \t 169\n",
            "২ \t 161\n",
            "\n",
            "Words --> Documents:\n",
            "নিহত \t 340\n",
            "বাংলাদেশ \t 243\n",
            "আটক \t 226\n",
            "দৈনিক \t 214\n",
            "মতিকণ্ঠ \t 213\n",
            "মৃত্যু \t 201\n",
            "৩ \t 200\n",
            "এক \t 184\n",
            "বিএনপি \t 169\n",
            "২ \t 160\n",
            "\n",
            "Words --> Index:\n",
            "মাজেদাকে \t 14294\n",
            "মধু \t 14293\n",
            "শার্কের \t 14292\n",
            "পর্যটনস্থলে \t 14291\n",
            "গৃহবধূসহ \t 14290\n",
            "কর্ণফুলী \t 14289\n",
            "সর্বোচ্চ \t 14288\n",
            "দপ্তরের \t 14287\n",
            "রূপসায় \t 14286\n",
            "কুয়াংয়ের \t 14285\n",
            "\n",
            "Total Documents --> 10321\n",
            "\u001b[1m\n",
            "\t\t\t====== Encoded Sequences ======\u001b[0m \n",
            "Found 14294 unique tokens\n",
            "মান্নার ১৪তম মৃত্যুবার্ষিকী \n",
            " [3786, 1, 2928]\n",
            "\n",
            "\t\t\t====== Paded Sequences ======\n",
            " মান্নার ১৪তম মৃত্যুবার্ষিকী \n",
            " [3786    1 2928    0    0    0    0    0    0    0    0    0    0    0\n",
            "    0    0    0    0    0    0    0    0    0    0    0    0    0    0\n",
            "    0    0    0    0    0    0    0    0    0    0    0    0    0    0\n",
            "    0    0    0    0    0    0    0    0    0    0    0    0    0    0\n",
            "    0    0    0    0    0    0    0    0    0    0    0    0    0    0\n",
            "    0    0    0    0    0    0    0    0    0    0    0    0    0    0\n",
            "    0    0    0    0    0    0    0    0    0    0    0    0    0    0\n",
            "    0    0    0    0    0    0    0    0    0    0    0    0    0    0\n",
            "    0    0    0    0    0    0    0    0    0    0    0    0    0    0\n",
            "    0    0    0    0    0    0    0    0    0    0    0    0    0    0\n",
            "    0    0    0    0    0    0    0    0    0    0    0    0    0    0\n",
            "    0    0    0    0    0    0    0    0    0    0    0    0    0    0\n",
            "    0    0    0    0    0    0    0    0    0    0    0    0    0    0\n",
            "    0    0    0    0    0    0    0    0    0    0    0    0    0    0\n",
            "    0    0    0    0    0    0    0    0    0    0    0    0    0    0\n",
            "    0    0    0    0    0    0    0    0    0    0    0    0    0    0\n",
            "    0    0    0    0    0    0    0    0    0    0    0    0    0    0\n",
            "    0    0    0    0    0    0    0    0    0    0    0    0    0    0\n",
            "    0    0    0    0    0    0    0    0    0    0    0    0    0    0\n",
            "    0    0    0    0    0    0    0    0    0    0    0    0    0    0\n",
            "    0    0    0    0    0    0    0    0    0    0    0    0    0    0\n",
            "    0    0    0    0    0    0]\n",
            "\u001b[1m\n",
            "\t\t\t===== Label Encoding =====\u001b[0m \n",
            "Class Names:--> ['fake' 'real']\n",
            "\n",
            "Shape of Encoded Corpus =====> (10321, 300)\n"
          ]
        }
      ]
    },
    {
      "cell_type": "code",
      "source": [
        "dataset"
      ],
      "metadata": {
        "colab": {
          "base_uri": "https://localhost:8080/",
          "height": 424
        },
        "id": "aaE-8ECF9c89",
        "outputId": "014d7e75-ffae-45bc-b887-7157e0f17f61"
      },
      "execution_count": null,
      "outputs": [
        {
          "output_type": "execute_result",
          "data": {
            "text/plain": [
              "       Unnamed: 0                                           headline label  \\\n",
              "0               0                              রোনালদোর অবাক করা গোল  real   \n",
              "1               1  বঙ্গবন্ধুর ৭ মার্চের ভাষণ নিয়ে হবে সিনেমা, নাম...  real   \n",
              "2               2  প্রাথমিকের শিক্ষার্থীদেরও টিকা দেওয়া হবে: শিক্...  real   \n",
              "3               3                   সৌদির সঙ্গে সংলাপ চলবে: এরদোগান   real   \n",
              "4               4                        পুলিশের ৯ উইকেট নিলেন তন্ময়  real   \n",
              "...           ...                                                ...   ...   \n",
              "10316       10316       তালাকের ৫ বছর পর শ্বশুরবাড়িতে প্রবাসীর মরদেহ  real   \n",
              "10317       10317                বান্দরবানে পালিত হচ্ছে মধু পূর্ণিমা  real   \n",
              "10318       10318  মাজেদাকে ধরিয়ে দিয়ে ১০ হাজার টাকা পুরস্কার নিল...  real   \n",
              "10319       10319  মন্ত্রিসভায় চূড়ান্ত অনুমোদনের অপেক্ষায় টেলিযোগ...  real   \n",
              "10320       10320                                        ফুল ঝরে পড়ে  real   \n",
              "\n",
              "                                                 cleaned  Length  \n",
              "0                                      রোনালদোর অবাক গোল       3  \n",
              "1              বঙ্গবন্ধুর ৭ মার্চের ভাষণ সিনেমা নাম মাইক       7  \n",
              "2           প্রাথমিকের শিক্ষার্থীদেরও টিকা শিক্ষামন্ত্রী       4  \n",
              "3                               সৌদির সংলাপ চলবে এরদোগান       4  \n",
              "4                            পুলিশের ৯ উইকেট নিলেন তন্ময়       5  \n",
              "...                                                  ...     ...  \n",
              "10316          তালাকের ৫ বছর শ্বশুরবাড়িতে প্রবাসীর মরদেহ       6  \n",
              "10317                      বান্দরবানে পালিত মধু পূর্ণিমা       4  \n",
              "10318           মাজেদাকে ধরিয়ে দিয়ে ১০ টাকা পুরস্কার নিল       7  \n",
              "10319  মন্ত্রিসভায় চূড়ান্ত অনুমোদনের অপেক্ষায় টেলিযোগ...       6  \n",
              "10320                                        ফুল ঝরে পড়ে       3  \n",
              "\n",
              "[10321 rows x 5 columns]"
            ],
            "text/html": [
              "\n",
              "  <div id=\"df-a8f553a8-5e3f-4003-91d4-16ba27f1bfbf\">\n",
              "    <div class=\"colab-df-container\">\n",
              "      <div>\n",
              "<style scoped>\n",
              "    .dataframe tbody tr th:only-of-type {\n",
              "        vertical-align: middle;\n",
              "    }\n",
              "\n",
              "    .dataframe tbody tr th {\n",
              "        vertical-align: top;\n",
              "    }\n",
              "\n",
              "    .dataframe thead th {\n",
              "        text-align: right;\n",
              "    }\n",
              "</style>\n",
              "<table border=\"1\" class=\"dataframe\">\n",
              "  <thead>\n",
              "    <tr style=\"text-align: right;\">\n",
              "      <th></th>\n",
              "      <th>Unnamed: 0</th>\n",
              "      <th>headline</th>\n",
              "      <th>label</th>\n",
              "      <th>cleaned</th>\n",
              "      <th>Length</th>\n",
              "    </tr>\n",
              "  </thead>\n",
              "  <tbody>\n",
              "    <tr>\n",
              "      <th>0</th>\n",
              "      <td>0</td>\n",
              "      <td>রোনালদোর অবাক করা গোল</td>\n",
              "      <td>real</td>\n",
              "      <td>রোনালদোর অবাক গোল</td>\n",
              "      <td>3</td>\n",
              "    </tr>\n",
              "    <tr>\n",
              "      <th>1</th>\n",
              "      <td>1</td>\n",
              "      <td>বঙ্গবন্ধুর ৭ মার্চের ভাষণ নিয়ে হবে সিনেমা, নাম...</td>\n",
              "      <td>real</td>\n",
              "      <td>বঙ্গবন্ধুর ৭ মার্চের ভাষণ সিনেমা নাম মাইক</td>\n",
              "      <td>7</td>\n",
              "    </tr>\n",
              "    <tr>\n",
              "      <th>2</th>\n",
              "      <td>2</td>\n",
              "      <td>প্রাথমিকের শিক্ষার্থীদেরও টিকা দেওয়া হবে: শিক্...</td>\n",
              "      <td>real</td>\n",
              "      <td>প্রাথমিকের শিক্ষার্থীদেরও টিকা শিক্ষামন্ত্রী</td>\n",
              "      <td>4</td>\n",
              "    </tr>\n",
              "    <tr>\n",
              "      <th>3</th>\n",
              "      <td>3</td>\n",
              "      <td>সৌদির সঙ্গে সংলাপ চলবে: এরদোগান</td>\n",
              "      <td>real</td>\n",
              "      <td>সৌদির সংলাপ চলবে এরদোগান</td>\n",
              "      <td>4</td>\n",
              "    </tr>\n",
              "    <tr>\n",
              "      <th>4</th>\n",
              "      <td>4</td>\n",
              "      <td>পুলিশের ৯ উইকেট নিলেন তন্ময়</td>\n",
              "      <td>real</td>\n",
              "      <td>পুলিশের ৯ উইকেট নিলেন তন্ময়</td>\n",
              "      <td>5</td>\n",
              "    </tr>\n",
              "    <tr>\n",
              "      <th>...</th>\n",
              "      <td>...</td>\n",
              "      <td>...</td>\n",
              "      <td>...</td>\n",
              "      <td>...</td>\n",
              "      <td>...</td>\n",
              "    </tr>\n",
              "    <tr>\n",
              "      <th>10316</th>\n",
              "      <td>10316</td>\n",
              "      <td>তালাকের ৫ বছর পর শ্বশুরবাড়িতে প্রবাসীর মরদেহ</td>\n",
              "      <td>real</td>\n",
              "      <td>তালাকের ৫ বছর শ্বশুরবাড়িতে প্রবাসীর মরদেহ</td>\n",
              "      <td>6</td>\n",
              "    </tr>\n",
              "    <tr>\n",
              "      <th>10317</th>\n",
              "      <td>10317</td>\n",
              "      <td>বান্দরবানে পালিত হচ্ছে মধু পূর্ণিমা</td>\n",
              "      <td>real</td>\n",
              "      <td>বান্দরবানে পালিত মধু পূর্ণিমা</td>\n",
              "      <td>4</td>\n",
              "    </tr>\n",
              "    <tr>\n",
              "      <th>10318</th>\n",
              "      <td>10318</td>\n",
              "      <td>মাজেদাকে ধরিয়ে দিয়ে ১০ হাজার টাকা পুরস্কার নিল...</td>\n",
              "      <td>real</td>\n",
              "      <td>মাজেদাকে ধরিয়ে দিয়ে ১০ টাকা পুরস্কার নিল</td>\n",
              "      <td>7</td>\n",
              "    </tr>\n",
              "    <tr>\n",
              "      <th>10319</th>\n",
              "      <td>10319</td>\n",
              "      <td>মন্ত্রিসভায় চূড়ান্ত অনুমোদনের অপেক্ষায় টেলিযোগ...</td>\n",
              "      <td>real</td>\n",
              "      <td>মন্ত্রিসভায় চূড়ান্ত অনুমোদনের অপেক্ষায় টেলিযোগ...</td>\n",
              "      <td>6</td>\n",
              "    </tr>\n",
              "    <tr>\n",
              "      <th>10320</th>\n",
              "      <td>10320</td>\n",
              "      <td>ফুল ঝরে পড়ে</td>\n",
              "      <td>real</td>\n",
              "      <td>ফুল ঝরে পড়ে</td>\n",
              "      <td>3</td>\n",
              "    </tr>\n",
              "  </tbody>\n",
              "</table>\n",
              "<p>10321 rows × 5 columns</p>\n",
              "</div>\n",
              "      <button class=\"colab-df-convert\" onclick=\"convertToInteractive('df-a8f553a8-5e3f-4003-91d4-16ba27f1bfbf')\"\n",
              "              title=\"Convert this dataframe to an interactive table.\"\n",
              "              style=\"display:none;\">\n",
              "        \n",
              "  <svg xmlns=\"http://www.w3.org/2000/svg\" height=\"24px\"viewBox=\"0 0 24 24\"\n",
              "       width=\"24px\">\n",
              "    <path d=\"M0 0h24v24H0V0z\" fill=\"none\"/>\n",
              "    <path d=\"M18.56 5.44l.94 2.06.94-2.06 2.06-.94-2.06-.94-.94-2.06-.94 2.06-2.06.94zm-11 1L8.5 8.5l.94-2.06 2.06-.94-2.06-.94L8.5 2.5l-.94 2.06-2.06.94zm10 10l.94 2.06.94-2.06 2.06-.94-2.06-.94-.94-2.06-.94 2.06-2.06.94z\"/><path d=\"M17.41 7.96l-1.37-1.37c-.4-.4-.92-.59-1.43-.59-.52 0-1.04.2-1.43.59L10.3 9.45l-7.72 7.72c-.78.78-.78 2.05 0 2.83L4 21.41c.39.39.9.59 1.41.59.51 0 1.02-.2 1.41-.59l7.78-7.78 2.81-2.81c.8-.78.8-2.07 0-2.86zM5.41 20L4 18.59l7.72-7.72 1.47 1.35L5.41 20z\"/>\n",
              "  </svg>\n",
              "      </button>\n",
              "      \n",
              "  <style>\n",
              "    .colab-df-container {\n",
              "      display:flex;\n",
              "      flex-wrap:wrap;\n",
              "      gap: 12px;\n",
              "    }\n",
              "\n",
              "    .colab-df-convert {\n",
              "      background-color: #E8F0FE;\n",
              "      border: none;\n",
              "      border-radius: 50%;\n",
              "      cursor: pointer;\n",
              "      display: none;\n",
              "      fill: #1967D2;\n",
              "      height: 32px;\n",
              "      padding: 0 0 0 0;\n",
              "      width: 32px;\n",
              "    }\n",
              "\n",
              "    .colab-df-convert:hover {\n",
              "      background-color: #E2EBFA;\n",
              "      box-shadow: 0px 1px 2px rgba(60, 64, 67, 0.3), 0px 1px 3px 1px rgba(60, 64, 67, 0.15);\n",
              "      fill: #174EA6;\n",
              "    }\n",
              "\n",
              "    [theme=dark] .colab-df-convert {\n",
              "      background-color: #3B4455;\n",
              "      fill: #D2E3FC;\n",
              "    }\n",
              "\n",
              "    [theme=dark] .colab-df-convert:hover {\n",
              "      background-color: #434B5C;\n",
              "      box-shadow: 0px 1px 3px 1px rgba(0, 0, 0, 0.15);\n",
              "      filter: drop-shadow(0px 1px 2px rgba(0, 0, 0, 0.3));\n",
              "      fill: #FFFFFF;\n",
              "    }\n",
              "  </style>\n",
              "\n",
              "      <script>\n",
              "        const buttonEl =\n",
              "          document.querySelector('#df-a8f553a8-5e3f-4003-91d4-16ba27f1bfbf button.colab-df-convert');\n",
              "        buttonEl.style.display =\n",
              "          google.colab.kernel.accessAllowed ? 'block' : 'none';\n",
              "\n",
              "        async function convertToInteractive(key) {\n",
              "          const element = document.querySelector('#df-a8f553a8-5e3f-4003-91d4-16ba27f1bfbf');\n",
              "          const dataTable =\n",
              "            await google.colab.kernel.invokeFunction('convertToInteractive',\n",
              "                                                     [key], {});\n",
              "          if (!dataTable) return;\n",
              "\n",
              "          const docLinkHtml = 'Like what you see? Visit the ' +\n",
              "            '<a target=\"_blank\" href=https://colab.research.google.com/notebooks/data_table.ipynb>data table notebook</a>'\n",
              "            + ' to learn more about interactive tables.';\n",
              "          element.innerHTML = '';\n",
              "          dataTable['output_type'] = 'display_data';\n",
              "          await google.colab.output.renderOutput(dataTable, element);\n",
              "          const docLink = document.createElement('div');\n",
              "          docLink.innerHTML = docLinkHtml;\n",
              "          element.appendChild(docLink);\n",
              "        }\n",
              "      </script>\n",
              "    </div>\n",
              "  </div>\n",
              "  "
            ]
          },
          "metadata": {},
          "execution_count": 27
        }
      ]
    },
    {
      "cell_type": "markdown",
      "metadata": {
        "id": "l300dkxyiryZ"
      },
      "source": [
        "#Call Dataset Split Function"
      ]
    },
    {
      "cell_type": "code",
      "metadata": {
        "id": "gNEBxFKJiwEv",
        "colab": {
          "base_uri": "https://localhost:8080/"
        },
        "outputId": "104f88ab-0b61-4f04-9027-2e292cb030a6"
      },
      "source": [
        "X_train,X_valid,X_test,y_train,y_valid,y_test = dataset_split(corpus,labels)"
      ],
      "execution_count": null,
      "outputs": [
        {
          "output_type": "stream",
          "name": "stdout",
          "text": [
            "\u001b[1mFeature Size :======>\u001b[0m 300\n",
            "\u001b[1m\n",
            "Dataset Distribution:\n",
            "\u001b[0m\n",
            "\tSet Name \t\tSize\n",
            "\t========\t\t======\n",
            "\tFull\t\t\t 10321 \n",
            "\tTraining\t\t 7430 \n",
            "\tTest\t\t\t 1033 \n",
            "\tValidation\t\t 1858\n"
          ]
        }
      ]
    },
    {
      "cell_type": "markdown",
      "metadata": {
        "id": "h-cT7teTjFZU"
      },
      "source": [
        "#Model Defination"
      ]
    },
    {
      "cell_type": "code",
      "source": [
        "from keras.models import Sequential\n",
        "from keras.layers import Embedding,Bidirectional, Dense,Dropout"
      ],
      "metadata": {
        "id": "ooz5HvLOqtAO"
      },
      "execution_count": null,
      "outputs": []
    },
    {
      "cell_type": "code",
      "source": [
        "import tensorflow as tf\n",
        "from tensorflow import keras"
      ],
      "metadata": {
        "id": "vHYA-neaquza"
      },
      "execution_count": null,
      "outputs": []
    },
    {
      "cell_type": "code",
      "source": [
        "from tensorflow.keras import layers"
      ],
      "metadata": {
        "id": "7IRnvCMoqwY_"
      },
      "execution_count": null,
      "outputs": []
    },
    {
      "cell_type": "code",
      "source": [
        "from tensorflow.keras.layers import Embedding,SpatialDropout1D"
      ],
      "metadata": {
        "id": "dV1_yaIzvnLv"
      },
      "execution_count": null,
      "outputs": []
    },
    {
      "cell_type": "code",
      "source": [
        "# voc_size = 20000\n",
        "\n",
        "# sent_length=300"
      ],
      "metadata": {
        "id": "7PL8eNxsqkdf"
      },
      "execution_count": null,
      "outputs": []
    },
    {
      "cell_type": "code",
      "source": [
        "# embedding_dimension = 128\n",
        "# input_length = 300\n",
        "# vocab_size = 5000\n",
        "# num_classes = 2\n",
        "# batch_size = 64\n",
        "# num_epochs = 10\n",
        "\n",
        "# accuracy_threshold = 0.97"
      ],
      "metadata": {
        "id": "9JU97E6lsrn2"
      },
      "execution_count": null,
      "outputs": []
    },
    {
      "cell_type": "code",
      "source": [
        "\n",
        "embedding_dimension = 128\n",
        "input_length = 300\n",
        "vocab_size = 20000\n",
        "num_classes = 2\n",
        "batch_size = 128\n",
        "num_epochs = 10\n",
        "\n",
        "accuracy_threshold = 0.97\n",
        "\n",
        "\n",
        "class myCallback(keras.callbacks.Callback):\n",
        "  def on_epoch_end(self, epoch, logs={}):\n",
        "      if(logs.get('accuracy')>accuracy_threshold):\n",
        "        print(\"\\nReached %2.2f%% accuracy so we will stop trianing\" % (accuracy_threshold*100))\n",
        "        self.model.stop_training = True\n",
        "\n",
        "acc_callback = myCallback()\n",
        "# Saved the Best Model\n",
        "filepath = path+\"Model2.h5\"\n",
        "checkpoint = keras.callbacks.ModelCheckpoint(filepath, monitor='val_accuracy', verbose=2, save_best_only=True,\n",
        "                                             save_weights_only=False, mode='max')\n",
        "# callback list\n",
        "callback_list = [acc_callback, checkpoint]\n",
        "\n",
        "                            ###############################     CNN network architecture ################\n",
        "model2 = Sequential()\n",
        "model2.add(layers.Embedding(vocab_size, embedding_dimension, input_length=input_length))\n",
        "model2.add(layers.Conv1D(128,5, activation='relu'))\n",
        "model2.add(layers.GlobalMaxPooling1D())\n",
        "model2.add(layers.Dense(10, activation='relu'))\n",
        "model2.add(layers.Dense(2, activation='sigmoid'))\n",
        "model2.compile(optimizer='adam',\n",
        "              loss='sparse_categorical_crossentropy',\n",
        "              metrics=['accuracy'])\n",
        "model2.summary()\n",
        "\n",
        "# model2.compile(optimizer=keras.optimizers.Adam(),\n",
        "#     loss='sparse_categorical_crossentropy',\n",
        "#     metrics=['accuracy'])\n",
        "\n",
        "history = model2.fit(X_train,\n",
        "    y_train,\n",
        "    epochs=num_epochs,\n",
        "    batch_size = batch_size,\n",
        "    validation_data=(X_valid, y_valid),\n",
        "    verbose =1)\n",
        "    #callbacks = callback_list)\n"
      ],
      "metadata": {
        "colab": {
          "base_uri": "https://localhost:8080/"
        },
        "id": "RVZqI-kzq20l",
        "outputId": "c67df838-a645-4b63-d7d5-84d66ce8bdbb"
      },
      "execution_count": null,
      "outputs": [
        {
          "output_type": "stream",
          "name": "stdout",
          "text": [
            "Model: \"sequential\"\n",
            "_________________________________________________________________\n",
            " Layer (type)                Output Shape              Param #   \n",
            "=================================================================\n",
            " embedding (Embedding)       (None, 300, 128)          2560000   \n",
            "                                                                 \n",
            " conv1d (Conv1D)             (None, 296, 128)          82048     \n",
            "                                                                 \n",
            " global_max_pooling1d (Globa  (None, 128)              0         \n",
            " lMaxPooling1D)                                                  \n",
            "                                                                 \n",
            " dense (Dense)               (None, 10)                1290      \n",
            "                                                                 \n",
            " dense_1 (Dense)             (None, 2)                 22        \n",
            "                                                                 \n",
            "=================================================================\n",
            "Total params: 2,643,360\n",
            "Trainable params: 2,643,360\n",
            "Non-trainable params: 0\n",
            "_________________________________________________________________\n",
            "Epoch 1/10\n",
            "59/59 [==============================] - 14s 18ms/step - loss: 0.4951 - accuracy: 0.7762 - val_loss: 0.3616 - val_accuracy: 0.8245\n",
            "Epoch 2/10\n",
            "59/59 [==============================] - 1s 13ms/step - loss: 0.2508 - accuracy: 0.9172 - val_loss: 0.2042 - val_accuracy: 0.9343\n",
            "Epoch 3/10\n",
            "59/59 [==============================] - 1s 13ms/step - loss: 0.0890 - accuracy: 0.9735 - val_loss: 0.1754 - val_accuracy: 0.9429\n",
            "Epoch 4/10\n",
            "59/59 [==============================] - 1s 13ms/step - loss: 0.0355 - accuracy: 0.9907 - val_loss: 0.1931 - val_accuracy: 0.9397\n",
            "Epoch 5/10\n",
            "59/59 [==============================] - 1s 13ms/step - loss: 0.0155 - accuracy: 0.9962 - val_loss: 0.2101 - val_accuracy: 0.9397\n",
            "Epoch 6/10\n",
            "59/59 [==============================] - 1s 13ms/step - loss: 0.0118 - accuracy: 0.9977 - val_loss: 0.2352 - val_accuracy: 0.9365\n",
            "Epoch 7/10\n",
            "59/59 [==============================] - 1s 13ms/step - loss: 0.0053 - accuracy: 0.9988 - val_loss: 0.2461 - val_accuracy: 0.9413\n",
            "Epoch 8/10\n",
            "59/59 [==============================] - 1s 13ms/step - loss: 0.0045 - accuracy: 0.9993 - val_loss: 0.2606 - val_accuracy: 0.9424\n",
            "Epoch 9/10\n",
            "59/59 [==============================] - 1s 13ms/step - loss: 0.0029 - accuracy: 0.9993 - val_loss: 0.2668 - val_accuracy: 0.9386\n",
            "Epoch 10/10\n",
            "59/59 [==============================] - 1s 13ms/step - loss: 0.0023 - accuracy: 0.9996 - val_loss: 0.2799 - val_accuracy: 0.9360\n"
          ]
        }
      ]
    },
    {
      "cell_type": "code",
      "source": [
        "# save the model\n",
        "# tf.keras.models.save_model(model, path+'Document.h5', save_format='h5')\n",
        "model2.save(path+'model2.h5')"
      ],
      "metadata": {
        "id": "a3Cb-nx2q8w6"
      },
      "execution_count": null,
      "outputs": []
    },
    {
      "cell_type": "code",
      "source": [
        "loss_values = history.history['loss']\n",
        "val_loss_values = history.history['val_loss']\n",
        "acc = history.history['accuracy']\n",
        "val_acc = history.history['val_accuracy']\n",
        "epochs = range(1, len(acc) + 1)\n",
        "sns.set_style('darkgrid')\n",
        "                  #=========================================================\n",
        "                  ############### Epochs vs Validation Accuracy Plot ##########\n",
        "                  #==========================================================\n",
        "\n",
        "plt.plot(epochs, acc, color='midnightblue', linewidth = 2,\n",
        "          marker='o', markersize=8,label='Training Accuracy')\n",
        "plt.plot(epochs, val_acc, color='darkred', linewidth = 2,\n",
        "          marker='o', markersize=8,label='Training Accuracy')\n",
        "plt.title('Training and validation accuracy',fontsize=12,fontweight='bold')\n",
        "plt.xlabel('Epochs',fontsize=12,fontweight='bold')\n",
        "plt.ylabel('Accuracy',fontsize=12,fontweight='bold')\n",
        "plt.legend(['Training Accuracy','Validation Accuracy'])"
      ],
      "metadata": {
        "colab": {
          "base_uri": "https://localhost:8080/",
          "height": 497
        },
        "id": "WBol6ef_q9qH",
        "outputId": "982baaae-a1fa-4daf-ff34-6b09913e125d"
      },
      "execution_count": null,
      "outputs": [
        {
          "output_type": "execute_result",
          "data": {
            "text/plain": [
              "<matplotlib.legend.Legend at 0x7fccd7ebaf10>"
            ]
          },
          "metadata": {},
          "execution_count": 37
        },
        {
          "output_type": "display_data",
          "data": {
            "text/plain": [
              "<Figure size 640x480 with 1 Axes>"
            ],
            "image/png": "[encoded data removed]"
          },
          "metadata": {}
        }
      ]
    },
    {
      "cell_type": "code",
      "source": [
        "loss_values = history.history['loss']\n",
        "val_loss_values = history.history['val_loss']\n",
        "acc = history.history['accuracy']\n",
        "val_acc = history.history['val_accuracy']\n",
        "epochs = range(1, len(acc) + 1)\n",
        "sns.set_style('darkgrid')\n",
        "                  #=========================================================\n",
        "                  ############### Epochs vs Validation Accuracy Plot ##########\n",
        "                  #==========================================================\n",
        "\n",
        "plt.plot(epochs, loss_values, color='midnightblue', linewidth = 2,\n",
        "          marker='o', markersize=8,label='Training Loss')\n",
        "plt.plot(epochs, val_loss_values, color='darkred', linewidth = 2,\n",
        "          marker='o', markersize=8,label='Validation Loss')\n",
        "plt.title('Training and validation Loss',fontsize=12,fontweight='bold')\n",
        "plt.xlabel('Epochs',fontsize=12,fontweight='bold')\n",
        "plt.ylabel('Data Loss-evaluation',fontsize=12,fontweight='bold')\n",
        "plt.legend(['Training Loss','Validation Loss'])"
      ],
      "metadata": {
        "colab": {
          "base_uri": "https://localhost:8080/",
          "height": 497
        },
        "id": "D0jHvjnNrAD2",
        "outputId": "829cde70-8e46-4b31-ae10-fe0e05b5abb2"
      },
      "execution_count": null,
      "outputs": [
        {
          "output_type": "execute_result",
          "data": {
            "text/plain": [
              "<matplotlib.legend.Legend at 0x7fccc02fefd0>"
            ]
          },
          "metadata": {},
          "execution_count": 38
        },
        {
          "output_type": "display_data",
          "data": {
            "text/plain": [
              "<Figure size 640x480 with 1 Axes>"
            ],
            "image/png": "[encoded data removed]"
          },
          "metadata": {}
        }
      ]
    },
    {
      "cell_type": "markdown",
      "metadata": {
        "id": "vEJcNkTVQkJI"
      },
      "source": [
        "# Model Performance on Test Set"
      ]
    },
    {
      "cell_type": "code",
      "metadata": {
        "id": "nVpwpJA-cYO3"
      },
      "source": [
        "# Load the saved model\n",
        "model = load_model(path+'model2.h5')"
      ],
      "execution_count": null,
      "outputs": []
    },
    {
      "cell_type": "code",
      "metadata": {
        "id": "-FNXIduHQpOK",
        "colab": {
          "base_uri": "https://localhost:8080/",
          "height": 206
        },
        "outputId": "88ce8cc5-506d-478e-af04-3d9d2c0a446c"
      },
      "source": [
        "class_names = ['fake' ,'real']\n",
        "predictions = model.predict(X_test)\n",
        "y_pred = np.argmax(predictions, axis=1)\n",
        "report = pd.DataFrame(classification_report(y_true = y_test, y_pred = y_pred, output_dict=True)).transpose()\n",
        "report = report.rename(index={'0': 'fake','1':'real'})\n",
        "report[['precision','recall','f1-score']]=report[['precision','recall','f1-score']].apply(lambda x: round(x*100,2))\n",
        "report"
      ],
      "execution_count": null,
      "outputs": [
        {
          "output_type": "execute_result",
          "data": {
            "text/plain": [
              "              precision  recall  f1-score      support\n",
              "fake              83.04   87.61     85.27   218.000000\n",
              "real              96.64   95.21     95.92   815.000000\n",
              "accuracy          93.61   93.61     93.61     0.936108\n",
              "macro avg         89.84   91.41     90.59  1033.000000\n",
              "weighted avg      93.77   93.61     93.67  1033.000000"
            ],
            "text/html": [
              "\n",
              "  <div id=\"df-04766e70-e1ac-4115-adb1-47e07203e87f\">\n",
              "    <div class=\"colab-df-container\">\n",
              "      <div>\n",
              "<style scoped>\n",
              "    .dataframe tbody tr th:only-of-type {\n",
              "        vertical-align: middle;\n",
              "    }\n",
              "\n",
              "    .dataframe tbody tr th {\n",
              "        vertical-align: top;\n",
              "    }\n",
              "\n",
              "    .dataframe thead th {\n",
              "        text-align: right;\n",
              "    }\n",
              "</style>\n",
              "<table border=\"1\" class=\"dataframe\">\n",
              "  <thead>\n",
              "    <tr style=\"text-align: right;\">\n",
              "      <th></th>\n",
              "      <th>precision</th>\n",
              "      <th>recall</th>\n",
              "      <th>f1-score</th>\n",
              "      <th>support</th>\n",
              "    </tr>\n",
              "  </thead>\n",
              "  <tbody>\n",
              "    <tr>\n",
              "      <th>fake</th>\n",
              "      <td>83.04</td>\n",
              "      <td>87.61</td>\n",
              "      <td>85.27</td>\n",
              "      <td>218.000000</td>\n",
              "    </tr>\n",
              "    <tr>\n",
              "      <th>real</th>\n",
              "      <td>96.64</td>\n",
              "      <td>95.21</td>\n",
              "      <td>95.92</td>\n",
              "      <td>815.000000</td>\n",
              "    </tr>\n",
              "    <tr>\n",
              "      <th>accuracy</th>\n",
              "      <td>93.61</td>\n",
              "      <td>93.61</td>\n",
              "      <td>93.61</td>\n",
              "      <td>0.936108</td>\n",
              "    </tr>\n",
              "    <tr>\n",
              "      <th>macro avg</th>\n",
              "      <td>89.84</td>\n",
              "      <td>91.41</td>\n",
              "      <td>90.59</td>\n",
              "      <td>1033.000000</td>\n",
              "    </tr>\n",
              "    <tr>\n",
              "      <th>weighted avg</th>\n",
              "      <td>93.77</td>\n",
              "      <td>93.61</td>\n",
              "      <td>93.67</td>\n",
              "      <td>1033.000000</td>\n",
              "    </tr>\n",
              "  </tbody>\n",
              "</table>\n",
              "</div>\n",
              "      <button class=\"colab-df-convert\" onclick=\"convertToInteractive('df-04766e70-e1ac-4115-adb1-47e07203e87f')\"\n",
              "              title=\"Convert this dataframe to an interactive table.\"\n",
              "              style=\"display:none;\">\n",
              "        \n",
              "  <svg xmlns=\"http://www.w3.org/2000/svg\" height=\"24px\"viewBox=\"0 0 24 24\"\n",
              "       width=\"24px\">\n",
              "    <path d=\"M0 0h24v24H0V0z\" fill=\"none\"/>\n",
              "    <path d=\"M18.56 5.44l.94 2.06.94-2.06 2.06-.94-2.06-.94-.94-2.06-.94 2.06-2.06.94zm-11 1L8.5 8.5l.94-2.06 2.06-.94-2.06-.94L8.5 2.5l-.94 2.06-2.06.94zm10 10l.94 2.06.94-2.06 2.06-.94-2.06-.94-.94-2.06-.94 2.06-2.06.94z\"/><path d=\"M17.41 7.96l-1.37-1.37c-.4-.4-.92-.59-1.43-.59-.52 0-1.04.2-1.43.59L10.3 9.45l-7.72 7.72c-.78.78-.78 2.05 0 2.83L4 21.41c.39.39.9.59 1.41.59.51 0 1.02-.2 1.41-.59l7.78-7.78 2.81-2.81c.8-.78.8-2.07 0-2.86zM5.41 20L4 18.59l7.72-7.72 1.47 1.35L5.41 20z\"/>\n",
              "  </svg>\n",
              "      </button>\n",
              "      \n",
              "  <style>\n",
              "    .colab-df-container {\n",
              "      display:flex;\n",
              "      flex-wrap:wrap;\n",
              "      gap: 12px;\n",
              "    }\n",
              "\n",
              "    .colab-df-convert {\n",
              "      background-color: #E8F0FE;\n",
              "      border: none;\n",
              "      border-radius: 50%;\n",
              "      cursor: pointer;\n",
              "      display: none;\n",
              "      fill: #1967D2;\n",
              "      height: 32px;\n",
              "      padding: 0 0 0 0;\n",
              "      width: 32px;\n",
              "    }\n",
              "\n",
              "    .colab-df-convert:hover {\n",
              "      background-color: #E2EBFA;\n",
              "      box-shadow: 0px 1px 2px rgba(60, 64, 67, 0.3), 0px 1px 3px 1px rgba(60, 64, 67, 0.15);\n",
              "      fill: #174EA6;\n",
              "    }\n",
              "\n",
              "    [theme=dark] .colab-df-convert {\n",
              "      background-color: #3B4455;\n",
              "      fill: #D2E3FC;\n",
              "    }\n",
              "\n",
              "    [theme=dark] .colab-df-convert:hover {\n",
              "      background-color: #434B5C;\n",
              "      box-shadow: 0px 1px 3px 1px rgba(0, 0, 0, 0.15);\n",
              "      filter: drop-shadow(0px 1px 2px rgba(0, 0, 0, 0.3));\n",
              "      fill: #FFFFFF;\n",
              "    }\n",
              "  </style>\n",
              "\n",
              "      <script>\n",
              "        const buttonEl =\n",
              "          document.querySelector('#df-04766e70-e1ac-4115-adb1-47e07203e87f button.colab-df-convert');\n",
              "        buttonEl.style.display =\n",
              "          google.colab.kernel.accessAllowed ? 'block' : 'none';\n",
              "\n",
              "        async function convertToInteractive(key) {\n",
              "          const element = document.querySelector('#df-04766e70-e1ac-4115-adb1-47e07203e87f');\n",
              "          const dataTable =\n",
              "            await google.colab.kernel.invokeFunction('convertToInteractive',\n",
              "                                                     [key], {});\n",
              "          if (!dataTable) return;\n",
              "\n",
              "          const docLinkHtml = 'Like what you see? Visit the ' +\n",
              "            '<a target=\"_blank\" href=https://colab.research.google.com/notebooks/data_table.ipynb>data table notebook</a>'\n",
              "            + ' to learn more about interactive tables.';\n",
              "          element.innerHTML = '';\n",
              "          dataTable['output_type'] = 'display_data';\n",
              "          await google.colab.output.renderOutput(dataTable, element);\n",
              "          const docLink = document.createElement('div');\n",
              "          docLink.innerHTML = docLinkHtml;\n",
              "          element.appendChild(docLink);\n",
              "        }\n",
              "      </script>\n",
              "    </div>\n",
              "  </div>\n",
              "  "
            ]
          },
          "metadata": {},
          "execution_count": 40
        }
      ]
    },
    {
      "cell_type": "markdown",
      "metadata": {
        "id": "vSMg_JAMSYNM"
      },
      "source": [
        "By observing precision,recall and f1-score we can see that all the classes are classified reasonably well except **Art and Environment.**"
      ]
    },
    {
      "cell_type": "markdown",
      "metadata": {
        "id": "MH3HoWz_OeeE"
      },
      "source": [
        "## Confusion Matrix"
      ]
    },
    {
      "cell_type": "code",
      "metadata": {
        "id": "CUdG2LdjGHRi",
        "colab": {
          "base_uri": "https://localhost:8080/",
          "height": 612
        },
        "outputId": "81c6eb7c-cc74-42e0-cae6-40457d511309"
      },
      "source": [
        "from sklearn.metrics import classification_report, confusion_matrix\n",
        "predictions = model.predict(X_test)\n",
        "y_pred = np.argmax(predictions, axis=1)\n",
        "\n",
        "cm = confusion_matrix(y_test, y_pred)\n",
        "\n",
        "class_names = ['fake' ,'real']\n",
        "# Transform to df for easier plotting\n",
        "cm_df = pd.DataFrame(cm,\n",
        "                     index = class_names,\n",
        "                     columns = class_names)\n",
        "\n",
        "plt.figure(figsize=(8,6))\n",
        "sns.heatmap(cm_df, annot=True,cmap=\"Greens\", fmt='g')\n",
        "plt.title('RNN-Model \\nAccuracy: {0:.2f}'.format(accuracy_score(y_test, y_pred)*100))\n",
        "plt.ylabel('True label')\n",
        "plt.xlabel('Predicted label')\n",
        "plt.xticks(rotation = 45)\n",
        "plt.yticks(rotation = 45)\n",
        "plt.show()\n"
      ],
      "execution_count": null,
      "outputs": [
        {
          "output_type": "display_data",
          "data": {
            "text/plain": [
              "<Figure size 800x600 with 2 Axes>"
            ],
            "image/png": "[encoded data removed]"
          },
          "metadata": {}
        }
      ]
    },
    {
      "cell_type": "markdown",
      "metadata": {
        "id": "GH8lMDKxSz1M"
      },
      "source": [
        "The confusion matrix provides a good understanding about how many documents are correctly classified in each class and which classes get confused during classification. Here, we can see that Art, Entertainment, Politics category gives larger number of false classified result.  "
      ]
    },
    {
      "cell_type": "markdown",
      "metadata": {
        "id": "l0aWT-JIcrL8"
      },
      "source": [
        "## Test with our own news"
      ]
    },
    {
      "cell_type": "code",
      "metadata": {
        "id": "dR0dy_qccvW-",
        "colab": {
          "base_uri": "https://localhost:8080/",
          "height": 35
        },
        "outputId": "332eca4a-af5b-49d2-b5de-4951c6578826"
      },
      "source": [
        "sample_news = 'অবশেষে জানা গেল ‘নাবিলা জানো’ পোস্টারের রহস্য!'\n",
        "cleaned_news = cleaning_documents(sample_news)\n",
        "\n",
        "class_names = ['fake' ,'real']\n",
        "\n",
        "#print(cleaned_news)\n",
        "# load the saved tokenizer\n",
        "with open(path+'tokenizer.pickle', 'rb') as handle:\n",
        "    loaded_tokenizer = pickle.load(handle)\n",
        "#print(len(loaded_tokenizer.word_index))\n",
        "seq= loaded_tokenizer.texts_to_sequences([cleaned_news])\n",
        "padded = pad_sequences(seq, value=0.0,padding='post', maxlen= 300 )\n",
        "pred = model.predict(padded)\n",
        "#print(pred)\n",
        "class_names[np.argmax(pred)]\n"
      ],
      "execution_count": null,
      "outputs": [
        {
          "output_type": "execute_result",
          "data": {
            "text/plain": [
              "'fake'"
            ],
            "application/vnd.google.colaboratory.intrinsic+json": {
              "type": "string"
            }
          },
          "metadata": {},
          "execution_count": 42
        }
      ]
    },
    {
      "cell_type": "code",
      "metadata": {
        "id": "kcWqif08u13d",
        "colab": {
          "base_uri": "https://localhost:8080/"
        },
        "outputId": "964bc619-4d36-4be5-8066-6aba3c96009a"
      },
      "source": [
        "# print top most classes\n",
        "y_pred = pred.reshape(-1)\n",
        "class_labels=[(class_names[i],round(prob*100,2)) for i,prob in enumerate(y_pred) if prob > 0.1]\n",
        "\n",
        "for k, v in class_labels:\n",
        "  print(k,'====>',v,'%')"
      ],
      "execution_count": null,
      "outputs": [
        {
          "output_type": "stream",
          "name": "stdout",
          "text": [
            "fake ====> 100.0 %\n",
            "real ====> 99.65 %\n"
          ]
        }
      ]
    }
  ]
}