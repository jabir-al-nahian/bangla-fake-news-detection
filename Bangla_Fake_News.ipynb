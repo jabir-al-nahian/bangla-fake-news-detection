{
  "nbformat": 4,
  "nbformat_minor": 0,
  "metadata": {
    "colab": {
      "provenance": [],
      "include_colab_link": true
    },
    "kernelspec": {
      "name": "python3",
      "display_name": "Python 3"
    },
    "accelerator": "GPU"
  },
  "cells": [
    {
      "cell_type": "markdown",
      "metadata": {
        "id": "view-in-github",
        "colab_type": "text"
      },
      "source": [
        "<a href=\"https://colab.research.google.com/github/jabir-al-nahian/bangla-fake-news-detection/blob/main/Bangla_Fake_News.ipynb\" target=\"_parent\"><img src=\"https://colab.research.google.com/assets/colab-badge.svg\" alt=\"Open In Colab\"/></a>"
      ]
    },
    {
      "cell_type": "code",
      "metadata": {
        "id": "bHuUH9gPZJC-"
      },
      "source": [
        "import pandas as pd\n",
        "import numpy as np\n",
        "import matplotlib.pyplot as plt\n",
        "from sklearn.linear_model import LogisticRegression\n",
        "from sklearn.model_selection import train_test_split,cross_val_score\n",
        "from sklearn.feature_selection import f_classif\n",
        "from sklearn.preprocessing import LabelEncoder, StandardScaler, MinMaxScaler\n",
        "from sklearn import metrics\n",
        "from scipy import stats\n",
        "import statsmodels.api as sm\n",
        "import math\n",
        "import re\n",
        "import seaborn as sns\n",
        "from statsmodels.stats.outliers_influence import variance_inflation_factor\n",
        "import sys\n",
        "import pandas.core.algorithms as algos\n",
        "pd.pandas.set_option('display.max_columns',None)"
      ],
      "execution_count": null,
      "outputs": []
    },
    {
      "cell_type": "code",
      "metadata": {
        "id": "HcA7ApOqg6DO"
      },
      "source": [
        "import pandas as pd\n",
        "news_data = pd.read_csv(\"/content/Dataset.csv\",encoding='unicode_escape')"
      ],
      "execution_count": null,
      "outputs": []
    },
    {
      "cell_type": "code",
      "source": [
        "news_data"
      ],
      "metadata": {
        "colab": {
          "base_uri": "https://localhost:8080/",
          "height": 641
        },
        "id": "Eo6UmvZ-OzA8",
        "outputId": "b58a1ec9-1073-4964-faa1-741141c25381"
      },
      "execution_count": null,
      "outputs": [
        {
          "output_type": "execute_result",
          "data": {
            "text/html": [
              "\n",
              "  <div id=\"df-350fea8a-f32f-47e4-9c04-150948d6422c\">\n",
              "    <div class=\"colab-df-container\">\n",
              "      <div>\n",
              "<style scoped>\n",
              "    .dataframe tbody tr th:only-of-type {\n",
              "        vertical-align: middle;\n",
              "    }\n",
              "\n",
              "    .dataframe tbody tr th {\n",
              "        vertical-align: top;\n",
              "    }\n",
              "\n",
              "    .dataframe thead th {\n",
              "        text-align: right;\n",
              "    }\n",
              "</style>\n",
              "<table border=\"1\" class=\"dataframe\">\n",
              "  <thead>\n",
              "    <tr style=\"text-align: right;\">\n",
              "      <th></th>\n",
              "      <th>Title</th>\n",
              "      <th>Statement</th>\n",
              "      <th>Category</th>\n",
              "      <th>Source</th>\n",
              "      <th>Date</th>\n",
              "      <th>Class</th>\n",
              "    </tr>\n",
              "  </thead>\n",
              "  <tbody>\n",
              "    <tr>\n",
              "      <th>0</th>\n",
              "      <td>?? ???? ?????? ?????? ?? ????, ???? ?????? ???</td>\n",
              "      <td>\\n\\n???? ???????????? ???????? ??? ?? ?? ?????...</td>\n",
              "      <td>???????? ?????</td>\n",
              "      <td>https://www.prothomalo.com/bangladesh/article/...</td>\n",
              "      <td>\\n?? ?????? ????, ??:??\\n\\n\\t\\t\\t\\t\\t\\t\\t?????...</td>\n",
              "      <td>Real</td>\n",
              "    </tr>\n",
              "    <tr>\n",
              "      <th>1</th>\n",
              "      <td>?????-??-?? ???? ???????? ???? ??? ????</td>\n",
              "      <td>\\n\\n??????? ???????????? ?? ???? ??????? ?????...</td>\n",
              "      <td>???? ??? ?????</td>\n",
              "      <td>https://www.prothomalo.com/bangladesh/article/...</td>\n",
              "      <td>\\n?? ?????? ????, ??:??\\n\\n\\t\\t\\t\\t\\t\\t\\t?????...</td>\n",
              "      <td>Real</td>\n",
              "    </tr>\n",
              "    <tr>\n",
              "      <th>2</th>\n",
              "      <td>?????????? ???????!</td>\n",
              "      <td>\\n\\n????? ????? ?????????? ?????, ????? ???? ?...</td>\n",
              "      <td>???? ??? ?????</td>\n",
              "      <td>https://www.prothomalo.com/bangladesh/article/...</td>\n",
              "      <td>\\n?? ?????? ????, ??:??\\n\\n\\t\\t\\t\\t\\t\\t\\t?????...</td>\n",
              "      <td>Real</td>\n",
              "    </tr>\n",
              "    <tr>\n",
              "      <th>3</th>\n",
              "      <td>?? ?????????????</td>\n",
              "      <td>\\n\\n????? ???????? ?? ??? ??????? ???? ??? ???...</td>\n",
              "      <td>???? ??? ?????</td>\n",
              "      <td>https://www.prothomalo.com/bangladesh/article/...</td>\n",
              "      <td>\\n?? ?????? ????, ??:??\\n\\n\\t\\t\\t\\t\\t\\t\\t?????...</td>\n",
              "      <td>Real</td>\n",
              "    </tr>\n",
              "    <tr>\n",
              "      <th>4</th>\n",
              "      <td>?? ????? ??????? ???????</td>\n",
              "      <td>\\n\\n???? ??? ???????? ??? ???????? ??????? ?? ...</td>\n",
              "      <td>???? ??? ?????</td>\n",
              "      <td>https://www.prothomalo.com/bangladesh/article/...</td>\n",
              "      <td>\\n?? ?????? ????, ??:??\\n\\n\\t\\t\\t\\t\\t\\t\\t?????...</td>\n",
              "      <td>Real</td>\n",
              "    </tr>\n",
              "    <tr>\n",
              "      <th>...</th>\n",
              "      <td>...</td>\n",
              "      <td>...</td>\n",
              "      <td>...</td>\n",
              "      <td>...</td>\n",
              "      <td>...</td>\n",
              "      <td>...</td>\n",
              "    </tr>\n",
              "    <tr>\n",
              "      <th>2536</th>\n",
              "      <td>\\n??? ????? ?????? ????? ?????????? ???? ?????...</td>\n",
              "      <td>\\n\\n\\n\\n\\n\\n\\n \\n\\n???? ?????????? ???? ??? ??...</td>\n",
              "      <td>??????</td>\n",
              "      <td>https://prothom1alu.blogspot.com/</td>\n",
              "      <td>????????, ?? ??, ????</td>\n",
              "      <td>Fake</td>\n",
              "    </tr>\n",
              "    <tr>\n",
              "      <th>2537</th>\n",
              "      <td>\\n??? ????? ????? ???? ????? ???? ??????\\n</td>\n",
              "      <td>\\n\\n\\n \\n\\n?????? ??????? ??? ???? ???????? ??...</td>\n",
              "      <td>???????</td>\n",
              "      <td>https://prothom1alu.blogspot.com/</td>\n",
              "      <td>????????, ?? ??, ????</td>\n",
              "      <td>Fake</td>\n",
              "    </tr>\n",
              "    <tr>\n",
              "      <th>2538</th>\n",
              "      <td>\\n????????? ???? ???? ?? ???? ???\\n</td>\n",
              "      <td>\\n\\n\\n\\n\\n???? ????????? ???? ????? ???? ?? ??...</td>\n",
              "      <td>?????</td>\n",
              "      <td>https://prothom1alu.blogspot.com/</td>\n",
              "      <td>????????, ?? ??, ????</td>\n",
              "      <td>Fake</td>\n",
              "    </tr>\n",
              "    <tr>\n",
              "      <th>2539</th>\n",
              "      <td>\\n????? ???? ?? ??????? ????????? ???????? ???...</td>\n",
              "      <td>\\n\\n\\n\\n\\n\\n\\n\\n???? ????????? ???? ?????? ???...</td>\n",
              "      <td>?????</td>\n",
              "      <td>https://prothom1alu.blogspot.com/</td>\n",
              "      <td>??????, ? ??, ????</td>\n",
              "      <td>Fake</td>\n",
              "    </tr>\n",
              "    <tr>\n",
              "      <th>2540</th>\n",
              "      <td>\\n????????? ??? ?????? ??????? ????? ???????? ...</td>\n",
              "      <td>\\n\\n\\n\\n\\n???? ????????? ??? ?????? ??????? ??...</td>\n",
              "      <td>Unkonwn</td>\n",
              "      <td>https://prothom1alu.blogspot.com/</td>\n",
              "      <td>??????, ? ??, ????</td>\n",
              "      <td>Fake</td>\n",
              "    </tr>\n",
              "  </tbody>\n",
              "</table>\n",
              "<p>2541 rows × 6 columns</p>\n",
              "</div>\n",
              "      <button class=\"colab-df-convert\" onclick=\"convertToInteractive('df-350fea8a-f32f-47e4-9c04-150948d6422c')\"\n",
              "              title=\"Convert this dataframe to an interactive table.\"\n",
              "              style=\"display:none;\">\n",
              "        \n",
              "  <svg xmlns=\"http://www.w3.org/2000/svg\" height=\"24px\"viewBox=\"0 0 24 24\"\n",
              "       width=\"24px\">\n",
              "    <path d=\"M0 0h24v24H0V0z\" fill=\"none\"/>\n",
              "    <path d=\"M18.56 5.44l.94 2.06.94-2.06 2.06-.94-2.06-.94-.94-2.06-.94 2.06-2.06.94zm-11 1L8.5 8.5l.94-2.06 2.06-.94-2.06-.94L8.5 2.5l-.94 2.06-2.06.94zm10 10l.94 2.06.94-2.06 2.06-.94-2.06-.94-.94-2.06-.94 2.06-2.06.94z\"/><path d=\"M17.41 7.96l-1.37-1.37c-.4-.4-.92-.59-1.43-.59-.52 0-1.04.2-1.43.59L10.3 9.45l-7.72 7.72c-.78.78-.78 2.05 0 2.83L4 21.41c.39.39.9.59 1.41.59.51 0 1.02-.2 1.41-.59l7.78-7.78 2.81-2.81c.8-.78.8-2.07 0-2.86zM5.41 20L4 18.59l7.72-7.72 1.47 1.35L5.41 20z\"/>\n",
              "  </svg>\n",
              "      </button>\n",
              "      \n",
              "  <style>\n",
              "    .colab-df-container {\n",
              "      display:flex;\n",
              "      flex-wrap:wrap;\n",
              "      gap: 12px;\n",
              "    }\n",
              "\n",
              "    .colab-df-convert {\n",
              "      background-color: #E8F0FE;\n",
              "      border: none;\n",
              "      border-radius: 50%;\n",
              "      cursor: pointer;\n",
              "      display: none;\n",
              "      fill: #1967D2;\n",
              "      height: 32px;\n",
              "      padding: 0 0 0 0;\n",
              "      width: 32px;\n",
              "    }\n",
              "\n",
              "    .colab-df-convert:hover {\n",
              "      background-color: #E2EBFA;\n",
              "      box-shadow: 0px 1px 2px rgba(60, 64, 67, 0.3), 0px 1px 3px 1px rgba(60, 64, 67, 0.15);\n",
              "      fill: #174EA6;\n",
              "    }\n",
              "\n",
              "    [theme=dark] .colab-df-convert {\n",
              "      background-color: #3B4455;\n",
              "      fill: #D2E3FC;\n",
              "    }\n",
              "\n",
              "    [theme=dark] .colab-df-convert:hover {\n",
              "      background-color: #434B5C;\n",
              "      box-shadow: 0px 1px 3px 1px rgba(0, 0, 0, 0.15);\n",
              "      filter: drop-shadow(0px 1px 2px rgba(0, 0, 0, 0.3));\n",
              "      fill: #FFFFFF;\n",
              "    }\n",
              "  </style>\n",
              "\n",
              "      <script>\n",
              "        const buttonEl =\n",
              "          document.querySelector('#df-350fea8a-f32f-47e4-9c04-150948d6422c button.colab-df-convert');\n",
              "        buttonEl.style.display =\n",
              "          google.colab.kernel.accessAllowed ? 'block' : 'none';\n",
              "\n",
              "        async function convertToInteractive(key) {\n",
              "          const element = document.querySelector('#df-350fea8a-f32f-47e4-9c04-150948d6422c');\n",
              "          const dataTable =\n",
              "            await google.colab.kernel.invokeFunction('convertToInteractive',\n",
              "                                                     [key], {});\n",
              "          if (!dataTable) return;\n",
              "\n",
              "          const docLinkHtml = 'Like what you see? Visit the ' +\n",
              "            '<a target=\"_blank\" href=https://colab.research.google.com/notebooks/data_table.ipynb>data table notebook</a>'\n",
              "            + ' to learn more about interactive tables.';\n",
              "          element.innerHTML = '';\n",
              "          dataTable['output_type'] = 'display_data';\n",
              "          await google.colab.output.renderOutput(dataTable, element);\n",
              "          const docLink = document.createElement('div');\n",
              "          docLink.innerHTML = docLinkHtml;\n",
              "          element.appendChild(docLink);\n",
              "        }\n",
              "      </script>\n",
              "    </div>\n",
              "  </div>\n",
              "  "
            ],
            "text/plain": [
              "                                                  Title  \\\n",
              "0        ?? ???? ?????? ?????? ?? ????, ???? ?????? ???   \n",
              "1               ?????-??-?? ???? ???????? ???? ??? ????   \n",
              "2                                   ?????????? ???????!   \n",
              "3                                      ?? ?????????????   \n",
              "4                              ?? ????? ??????? ???????   \n",
              "...                                                 ...   \n",
              "2536  \\n??? ????? ?????? ????? ?????????? ???? ?????...   \n",
              "2537         \\n??? ????? ????? ???? ????? ???? ??????\\n   \n",
              "2538                \\n????????? ???? ???? ?? ???? ???\\n   \n",
              "2539  \\n????? ???? ?? ??????? ????????? ???????? ???...   \n",
              "2540  \\n????????? ??? ?????? ??????? ????? ???????? ...   \n",
              "\n",
              "                                              Statement        Category  \\\n",
              "0     \\n\\n???? ???????????? ???????? ??? ?? ?? ?????...  ???????? ?????   \n",
              "1     \\n\\n??????? ???????????? ?? ???? ??????? ?????...  ???? ??? ?????   \n",
              "2     \\n\\n????? ????? ?????????? ?????, ????? ???? ?...  ???? ??? ?????   \n",
              "3     \\n\\n????? ???????? ?? ??? ??????? ???? ??? ???...  ???? ??? ?????   \n",
              "4     \\n\\n???? ??? ???????? ??? ???????? ??????? ?? ...  ???? ??? ?????   \n",
              "...                                                 ...             ...   \n",
              "2536  \\n\\n\\n\\n\\n\\n\\n \\n\\n???? ?????????? ???? ??? ??...          ??????   \n",
              "2537  \\n\\n\\n \\n\\n?????? ??????? ??? ???? ???????? ??...         ???????   \n",
              "2538  \\n\\n\\n\\n\\n???? ????????? ???? ????? ???? ?? ??...           ?????   \n",
              "2539  \\n\\n\\n\\n\\n\\n\\n\\n???? ????????? ???? ?????? ???...           ?????   \n",
              "2540  \\n\\n\\n\\n\\n???? ????????? ??? ?????? ??????? ??...         Unkonwn   \n",
              "\n",
              "                                                 Source  \\\n",
              "0     https://www.prothomalo.com/bangladesh/article/...   \n",
              "1     https://www.prothomalo.com/bangladesh/article/...   \n",
              "2     https://www.prothomalo.com/bangladesh/article/...   \n",
              "3     https://www.prothomalo.com/bangladesh/article/...   \n",
              "4     https://www.prothomalo.com/bangladesh/article/...   \n",
              "...                                                 ...   \n",
              "2536                  https://prothom1alu.blogspot.com/   \n",
              "2537                  https://prothom1alu.blogspot.com/   \n",
              "2538                  https://prothom1alu.blogspot.com/   \n",
              "2539                  https://prothom1alu.blogspot.com/   \n",
              "2540                  https://prothom1alu.blogspot.com/   \n",
              "\n",
              "                                                   Date Class  \n",
              "0     \\n?? ?????? ????, ??:??\\n\\n\\t\\t\\t\\t\\t\\t\\t?????...  Real  \n",
              "1     \\n?? ?????? ????, ??:??\\n\\n\\t\\t\\t\\t\\t\\t\\t?????...  Real  \n",
              "2     \\n?? ?????? ????, ??:??\\n\\n\\t\\t\\t\\t\\t\\t\\t?????...  Real  \n",
              "3     \\n?? ?????? ????, ??:??\\n\\n\\t\\t\\t\\t\\t\\t\\t?????...  Real  \n",
              "4     \\n?? ?????? ????, ??:??\\n\\n\\t\\t\\t\\t\\t\\t\\t?????...  Real  \n",
              "...                                                 ...   ...  \n",
              "2536                              ????????, ?? ??, ????  Fake  \n",
              "2537                              ????????, ?? ??, ????  Fake  \n",
              "2538                              ????????, ?? ??, ????  Fake  \n",
              "2539                                 ??????, ? ??, ????  Fake  \n",
              "2540                                 ??????, ? ??, ????  Fake  \n",
              "\n",
              "[2541 rows x 6 columns]"
            ]
          },
          "metadata": {},
          "execution_count": 187
        }
      ]
    },
    {
      "cell_type": "code",
      "metadata": {
        "id": "ZK29D38UyFjX",
        "outputId": "6b1b2c16-cd5a-4615-a5af-d707a2b8899d",
        "colab": {
          "base_uri": "https://localhost:8080/"
        }
      },
      "source": [
        "news_data.shape"
      ],
      "execution_count": null,
      "outputs": [
        {
          "output_type": "execute_result",
          "data": {
            "text/plain": [
              "(2541, 6)"
            ]
          },
          "metadata": {},
          "execution_count": 188
        }
      ]
    },
    {
      "cell_type": "code",
      "source": [
        "news_data.isnull().sum()"
      ],
      "metadata": {
        "colab": {
          "base_uri": "https://localhost:8080/"
        },
        "id": "YoMlgLFqjfC6",
        "outputId": "c484a9cd-327f-4b89-9157-15d32edd2aa0"
      },
      "execution_count": null,
      "outputs": [
        {
          "output_type": "execute_result",
          "data": {
            "text/plain": [
              "Title        0\n",
              "Statement    0\n",
              "Category     0\n",
              "Source       0\n",
              "Date         0\n",
              "Class        0\n",
              "dtype: int64"
            ]
          },
          "metadata": {},
          "execution_count": 189
        }
      ]
    },
    {
      "cell_type": "code",
      "source": [
        "news_data = news_data.fillna('')"
      ],
      "metadata": {
        "id": "Dcbxz7eyjhWq"
      },
      "execution_count": null,
      "outputs": []
    },
    {
      "cell_type": "code",
      "source": [
        "news_data.isnull().sum()"
      ],
      "metadata": {
        "colab": {
          "base_uri": "https://localhost:8080/"
        },
        "id": "mMNgDiO_jksy",
        "outputId": "865f5be4-9bc0-479a-e0ce-d80aba5a57f6"
      },
      "execution_count": null,
      "outputs": [
        {
          "output_type": "execute_result",
          "data": {
            "text/plain": [
              "Title        0\n",
              "Statement    0\n",
              "Category     0\n",
              "Source       0\n",
              "Date         0\n",
              "Class        0\n",
              "dtype: int64"
            ]
          },
          "metadata": {},
          "execution_count": 191
        }
      ]
    },
    {
      "cell_type": "code",
      "source": [
        "news_data['content'] = news_data['Title']+news_data['Statement']+news_data['Category']+news_data['Source']+\tnews_data['Date']"
      ],
      "metadata": {
        "id": "7vX2RBqnjnST"
      },
      "execution_count": null,
      "outputs": []
    },
    {
      "cell_type": "code",
      "source": [
        "print(news_data['content'])"
      ],
      "metadata": {
        "colab": {
          "base_uri": "https://localhost:8080/"
        },
        "id": "62z8yJuKkL8L",
        "outputId": "285ef058-fbd7-4a37-847c-cb4ad8e10dac"
      },
      "execution_count": null,
      "outputs": [
        {
          "output_type": "stream",
          "name": "stdout",
          "text": [
            "0       ?? ???? ?????? ?????? ?? ????, ???? ?????? ???...\n",
            "1       ?????-??-?? ???? ???????? ???? ??? ????\\n\\n???...\n",
            "2       ?????????? ???????!\\n\\n????? ????? ?????????? ...\n",
            "3       ?? ?????????????\\n\\n????? ???????? ?? ??? ????...\n",
            "4       ?? ????? ??????? ???????\\n\\n???? ??? ???????? ...\n",
            "                              ...                        \n",
            "2536    \\n??? ????? ?????? ????? ?????????? ???? ?????...\n",
            "2537    \\n??? ????? ????? ???? ????? ???? ??????\\n\\n\\n...\n",
            "2538    \\n????????? ???? ???? ?? ???? ???\\n\\n\\n\\n\\n\\n?...\n",
            "2539    \\n????? ???? ?? ??????? ????????? ???????? ???...\n",
            "2540    \\n????????? ??? ?????? ??????? ????? ???????? ...\n",
            "Name: content, Length: 2541, dtype: object\n"
          ]
        }
      ]
    },
    {
      "cell_type": "code",
      "source": [
        "# separating the data & label\n",
        "\n",
        "## Get the Independent Features\n",
        "X = news_data.drop(columns='Class', axis=1)\n",
        "## Get the Dependent features\n",
        "Y = news_data['Class']"
      ],
      "metadata": {
        "id": "6ERph7m-kOp6"
      },
      "execution_count": null,
      "outputs": []
    },
    {
      "cell_type": "code",
      "source": [
        "Y.value_counts()"
      ],
      "metadata": {
        "colab": {
          "base_uri": "https://localhost:8080/"
        },
        "id": "ngx0CuorkgL5",
        "outputId": "55af8710-a235-4f2f-9c93-8349d0d3d92f"
      },
      "execution_count": null,
      "outputs": [
        {
          "output_type": "execute_result",
          "data": {
            "text/plain": [
              "Real    1548\n",
              "Fake     993\n",
              "Name: Class, dtype: int64"
            ]
          },
          "metadata": {},
          "execution_count": 195
        }
      ]
    },
    {
      "cell_type": "code",
      "source": [
        "X.shape"
      ],
      "metadata": {
        "colab": {
          "base_uri": "https://localhost:8080/"
        },
        "id": "XziuwshGkixZ",
        "outputId": "8c6d4750-cefc-47cd-863a-91a7cbb7eaeb"
      },
      "execution_count": null,
      "outputs": [
        {
          "output_type": "execute_result",
          "data": {
            "text/plain": [
              "(2541, 6)"
            ]
          },
          "metadata": {},
          "execution_count": 196
        }
      ]
    },
    {
      "cell_type": "code",
      "source": [
        "Y.shape"
      ],
      "metadata": {
        "colab": {
          "base_uri": "https://localhost:8080/"
        },
        "id": "weUhiwyXkkma",
        "outputId": "df8a513c-65ed-4937-fe0d-eee6bd248e9c"
      },
      "execution_count": null,
      "outputs": [
        {
          "output_type": "execute_result",
          "data": {
            "text/plain": [
              "(2541,)"
            ]
          },
          "metadata": {},
          "execution_count": 197
        }
      ]
    },
    {
      "cell_type": "code",
      "source": [
        "print(X)\n",
        "print(Y)"
      ],
      "metadata": {
        "colab": {
          "base_uri": "https://localhost:8080/"
        },
        "id": "1w0iWuuRkmoj",
        "outputId": "5f68e765-a896-4390-f03a-6490bdaaf918"
      },
      "execution_count": null,
      "outputs": [
        {
          "output_type": "stream",
          "name": "stdout",
          "text": [
            "                                                  Title  \\\n",
            "0        ?? ???? ?????? ?????? ?? ????, ???? ?????? ???   \n",
            "1               ?????-??-?? ???? ???????? ???? ??? ????   \n",
            "2                                   ?????????? ???????!   \n",
            "3                                      ?? ?????????????   \n",
            "4                              ?? ????? ??????? ???????   \n",
            "...                                                 ...   \n",
            "2536  \\n??? ????? ?????? ????? ?????????? ???? ?????...   \n",
            "2537         \\n??? ????? ????? ???? ????? ???? ??????\\n   \n",
            "2538                \\n????????? ???? ???? ?? ???? ???\\n   \n",
            "2539  \\n????? ???? ?? ??????? ????????? ???????? ???...   \n",
            "2540  \\n????????? ??? ?????? ??????? ????? ???????? ...   \n",
            "\n",
            "                                              Statement        Category  \\\n",
            "0     \\n\\n???? ???????????? ???????? ??? ?? ?? ?????...  ???????? ?????   \n",
            "1     \\n\\n??????? ???????????? ?? ???? ??????? ?????...  ???? ??? ?????   \n",
            "2     \\n\\n????? ????? ?????????? ?????, ????? ???? ?...  ???? ??? ?????   \n",
            "3     \\n\\n????? ???????? ?? ??? ??????? ???? ??? ???...  ???? ??? ?????   \n",
            "4     \\n\\n???? ??? ???????? ??? ???????? ??????? ?? ...  ???? ??? ?????   \n",
            "...                                                 ...             ...   \n",
            "2536  \\n\\n\\n\\n\\n\\n\\n \\n\\n???? ?????????? ???? ??? ??...          ??????   \n",
            "2537  \\n\\n\\n \\n\\n?????? ??????? ??? ???? ???????? ??...         ???????   \n",
            "2538  \\n\\n\\n\\n\\n???? ????????? ???? ????? ???? ?? ??...           ?????   \n",
            "2539  \\n\\n\\n\\n\\n\\n\\n\\n???? ????????? ???? ?????? ???...           ?????   \n",
            "2540  \\n\\n\\n\\n\\n???? ????????? ??? ?????? ??????? ??...         Unkonwn   \n",
            "\n",
            "                                                 Source  \\\n",
            "0     https://www.prothomalo.com/bangladesh/article/...   \n",
            "1     https://www.prothomalo.com/bangladesh/article/...   \n",
            "2     https://www.prothomalo.com/bangladesh/article/...   \n",
            "3     https://www.prothomalo.com/bangladesh/article/...   \n",
            "4     https://www.prothomalo.com/bangladesh/article/...   \n",
            "...                                                 ...   \n",
            "2536                  https://prothom1alu.blogspot.com/   \n",
            "2537                  https://prothom1alu.blogspot.com/   \n",
            "2538                  https://prothom1alu.blogspot.com/   \n",
            "2539                  https://prothom1alu.blogspot.com/   \n",
            "2540                  https://prothom1alu.blogspot.com/   \n",
            "\n",
            "                                                   Date  \\\n",
            "0     \\n?? ?????? ????, ??:??\\n\\n\\t\\t\\t\\t\\t\\t\\t?????...   \n",
            "1     \\n?? ?????? ????, ??:??\\n\\n\\t\\t\\t\\t\\t\\t\\t?????...   \n",
            "2     \\n?? ?????? ????, ??:??\\n\\n\\t\\t\\t\\t\\t\\t\\t?????...   \n",
            "3     \\n?? ?????? ????, ??:??\\n\\n\\t\\t\\t\\t\\t\\t\\t?????...   \n",
            "4     \\n?? ?????? ????, ??:??\\n\\n\\t\\t\\t\\t\\t\\t\\t?????...   \n",
            "...                                                 ...   \n",
            "2536                              ????????, ?? ??, ????   \n",
            "2537                              ????????, ?? ??, ????   \n",
            "2538                              ????????, ?? ??, ????   \n",
            "2539                                 ??????, ? ??, ????   \n",
            "2540                                 ??????, ? ??, ????   \n",
            "\n",
            "                                                content  \n",
            "0     ?? ???? ?????? ?????? ?? ????, ???? ?????? ???...  \n",
            "1     ?????-??-?? ???? ???????? ???? ??? ????\\n\\n???...  \n",
            "2     ?????????? ???????!\\n\\n????? ????? ?????????? ...  \n",
            "3     ?? ?????????????\\n\\n????? ???????? ?? ??? ????...  \n",
            "4     ?? ????? ??????? ???????\\n\\n???? ??? ???????? ...  \n",
            "...                                                 ...  \n",
            "2536  \\n??? ????? ?????? ????? ?????????? ???? ?????...  \n",
            "2537  \\n??? ????? ????? ???? ????? ???? ??????\\n\\n\\n...  \n",
            "2538  \\n????????? ???? ???? ?? ???? ???\\n\\n\\n\\n\\n\\n?...  \n",
            "2539  \\n????? ???? ?? ??????? ????????? ???????? ???...  \n",
            "2540  \\n????????? ??? ?????? ??????? ????? ???????? ...  \n",
            "\n",
            "[2541 rows x 6 columns]\n",
            "0       Real\n",
            "1       Real\n",
            "2       Real\n",
            "3       Real\n",
            "4       Real\n",
            "        ... \n",
            "2536    Fake\n",
            "2537    Fake\n",
            "2538    Fake\n",
            "2539    Fake\n",
            "2540    Fake\n",
            "Name: Class, Length: 2541, dtype: object\n"
          ]
        }
      ]
    },
    {
      "cell_type": "code",
      "source": [
        "#separating the data and label\n",
        "X = news_data['content'].values\n",
        "Y = news_data['Class'].values"
      ],
      "metadata": {
        "id": "4KeTFLNMkpO6"
      },
      "execution_count": null,
      "outputs": []
    },
    {
      "cell_type": "code",
      "source": [
        "from sklearn.feature_extraction.text import TfidfTransformer\n",
        "from sklearn.feature_extraction.text import TfidfVectorizer\n",
        "vectorizer = TfidfVectorizer()\n",
        "vectorizer.fit(X)\n",
        "X = vectorizer.transform(X)"
      ],
      "metadata": {
        "id": "iBTXCnF9lSYS"
      },
      "execution_count": null,
      "outputs": []
    },
    {
      "cell_type": "code",
      "source": [
        "X_train, X_test, Y_train, Y_test = train_test_split(X, Y, test_size = 0.2, stratify=Y, random_state=2)"
      ],
      "metadata": {
        "id": "Swp9yeL3k3pa"
      },
      "execution_count": null,
      "outputs": []
    },
    {
      "cell_type": "markdown",
      "source": [
        "# **Logistic**"
      ],
      "metadata": {
        "id": "oSJMeDJCqATh"
      }
    },
    {
      "cell_type": "code",
      "source": [
        "from sklearn.metrics import accuracy_score\n",
        "model = LogisticRegression()\n",
        "model.fit(X_train, Y_train)\n",
        "X_train_prediction = model.predict(X_train)\n",
        "training_data_accuracy = accuracy_score(X_train_prediction, Y_train)"
      ],
      "metadata": {
        "id": "KLGgS2WJlH8b"
      },
      "execution_count": null,
      "outputs": []
    },
    {
      "cell_type": "code",
      "source": [
        "print('Accuracy score of the training data : ', training_data_accuracy)"
      ],
      "metadata": {
        "colab": {
          "base_uri": "https://localhost:8080/"
        },
        "id": "VPlLcHnNl5NC",
        "outputId": "5ff32ca7-518a-416c-da47-7dd7a241f84a"
      },
      "execution_count": null,
      "outputs": [
        {
          "output_type": "stream",
          "name": "stdout",
          "text": [
            "Accuracy score of the training data :  1.0\n"
          ]
        }
      ]
    },
    {
      "cell_type": "code",
      "source": [
        "from sklearn import metrics\n",
        "import numpy as np\n",
        "import itertools\n",
        "\n",
        "model.fit(X_train, Y_train)\n",
        "prediction = model.predict(X_test)\n",
        "score = metrics.accuracy_score(Y_test, prediction)\n",
        "print(\"accuracy:   %0.3f\" % score)\n",
        "cm1 = metrics.confusion_matrix(Y_test, prediction)\n",
        "plot_confusion_matrix(cm1, classes=['FAKE', 'REAL'])"
      ],
      "metadata": {
        "colab": {
          "base_uri": "https://localhost:8080/",
          "height": 346
        },
        "id": "ZMUPCKFGl_lU",
        "outputId": "43ef1f7b-51bf-497e-b5f3-c2633aef8216"
      },
      "execution_count": null,
      "outputs": [
        {
          "output_type": "stream",
          "name": "stdout",
          "text": [
            "accuracy:   1.000\n",
            "Confusion matrix, without normalization\n"
          ]
        },
        {
          "output_type": "display_data",
          "data": {
            "image/png": "[encoded data removed]",
            "text/plain": [
              "<Figure size 432x288 with 2 Axes>"
            ]
          },
          "metadata": {
            "needs_background": "light"
          }
        }
      ]
    },
    {
      "cell_type": "code",
      "source": [
        "from sklearn.metrics import classification_report\n",
        "print(classification_report(Y_test, prediction))"
      ],
      "metadata": {
        "colab": {
          "base_uri": "https://localhost:8080/"
        },
        "id": "hs2FAo9boQKy",
        "outputId": "21d3d79e-8d94-4db1-e0d0-2fcd18bfbafc"
      },
      "execution_count": null,
      "outputs": [
        {
          "output_type": "stream",
          "name": "stdout",
          "text": [
            "              precision    recall  f1-score   support\n",
            "\n",
            "        Fake       1.00      1.00      1.00       199\n",
            "        Real       1.00      1.00      1.00       310\n",
            "\n",
            "    accuracy                           1.00       509\n",
            "   macro avg       1.00      1.00      1.00       509\n",
            "weighted avg       1.00      1.00      1.00       509\n",
            "\n"
          ]
        }
      ]
    },
    {
      "cell_type": "markdown",
      "source": [
        "# Multinomial Naive **Bayes**"
      ],
      "metadata": {
        "id": "jGR6VrHHqIYh"
      }
    },
    {
      "cell_type": "code",
      "source": [
        "#let's implement the model : Multinomial Naive Bayes\n",
        "from sklearn.naive_bayes import MultinomialNB\n",
        "classifier=MultinomialNB()"
      ],
      "metadata": {
        "id": "X8SuStm7nDlK"
      },
      "execution_count": null,
      "outputs": []
    },
    {
      "cell_type": "code",
      "source": [
        "from sklearn import metrics\n",
        "import numpy as np\n",
        "import itertools\n",
        "\n",
        "classifier.fit(X_train, Y_train)\n",
        "prediction1 = classifier.predict(X_test)\n",
        "score = metrics.accuracy_score(Y_test, prediction1)\n",
        "print(\"accuracy:   %0.3f\" % score)\n",
        "cm1 = metrics.confusion_matrix(Y_test, prediction1)\n",
        "plot_confusion_matrix(cm1, classes=['FAKE', 'REAL'])"
      ],
      "metadata": {
        "colab": {
          "base_uri": "https://localhost:8080/",
          "height": 346
        },
        "id": "ujzWPxCInHyo",
        "outputId": "f56c9918-828a-42fa-f4eb-ece787e17dbd"
      },
      "execution_count": null,
      "outputs": [
        {
          "output_type": "stream",
          "name": "stdout",
          "text": [
            "accuracy:   0.998\n",
            "Confusion matrix, without normalization\n"
          ]
        },
        {
          "output_type": "display_data",
          "data": {
            "image/png": "[encoded data removed]",
            "text/plain": [
              "<Figure size 432x288 with 2 Axes>"
            ]
          },
          "metadata": {
            "needs_background": "light"
          }
        }
      ]
    },
    {
      "cell_type": "code",
      "source": [
        "X_new = X_test[0]\n",
        "\n",
        "prediction = model.predict(X_new)\n",
        "print(prediction)\n",
        "\n",
        "if (prediction[0]==0):\n",
        "  print('The news is Real')\n",
        "else:\n",
        "  print('The news is Fake')"
      ],
      "metadata": {
        "colab": {
          "base_uri": "https://localhost:8080/"
        },
        "id": "0jFRrbLrnTlR",
        "outputId": "f6f5a235-ada2-4ec4-9e8e-d7c632a0f92b"
      },
      "execution_count": null,
      "outputs": [
        {
          "output_type": "stream",
          "name": "stdout",
          "text": [
            "['Fake']\n",
            "The news is Fake\n"
          ]
        }
      ]
    },
    {
      "cell_type": "code",
      "source": [
        "from sklearn.metrics import classification_report\n",
        "print(classification_report(Y_test,prediction1))"
      ],
      "metadata": {
        "colab": {
          "base_uri": "https://localhost:8080/"
        },
        "id": "3uXrQYUjnzuL",
        "outputId": "b566e19a-3e4f-4538-c4e6-464b5ab068cf"
      },
      "execution_count": null,
      "outputs": [
        {
          "output_type": "stream",
          "name": "stdout",
          "text": [
            "              precision    recall  f1-score   support\n",
            "\n",
            "        Fake       0.99      1.00      1.00       199\n",
            "        Real       1.00      1.00      1.00       310\n",
            "\n",
            "    accuracy                           1.00       509\n",
            "   macro avg       1.00      1.00      1.00       509\n",
            "weighted avg       1.00      1.00      1.00       509\n",
            "\n"
          ]
        }
      ]
    },
    {
      "cell_type": "markdown",
      "source": [
        "## **RF**"
      ],
      "metadata": {
        "id": "Bk5p0KZiqPhJ"
      }
    },
    {
      "cell_type": "code",
      "source": [
        "from sklearn.ensemble import RandomForestClassifier\n",
        "rfmodel = RandomForestClassifier()\n",
        "rfmodel.fit(X_train,Y_train)"
      ],
      "metadata": {
        "colab": {
          "base_uri": "https://localhost:8080/"
        },
        "id": "jLQSLfh6qROx",
        "outputId": "dea5c80a-b5f3-436c-dd50-759fbf517605"
      },
      "execution_count": null,
      "outputs": [
        {
          "output_type": "execute_result",
          "data": {
            "text/plain": [
              "RandomForestClassifier()"
            ]
          },
          "metadata": {},
          "execution_count": 210
        }
      ]
    },
    {
      "cell_type": "code",
      "source": [
        "from sklearn import metrics\n",
        "import numpy as np\n",
        "import itertools\n",
        "\n",
        "rfmodel.fit(X_train, Y_train)\n",
        "prediction2 = rfmodel.predict(X_test)\n",
        "score = metrics.accuracy_score(Y_test, prediction2)\n",
        "print(\"accuracy:   %0.3f\" % score)\n",
        "cm1 = metrics.confusion_matrix(Y_test, prediction2)\n",
        "plot_confusion_matrix(cm1, classes=['FAKE', 'REAL'])"
      ],
      "metadata": {
        "colab": {
          "base_uri": "https://localhost:8080/",
          "height": 346
        },
        "id": "P9ZcI8jHqjNJ",
        "outputId": "81a93aae-e8ae-4671-c558-c602c8cb939b"
      },
      "execution_count": null,
      "outputs": [
        {
          "output_type": "stream",
          "name": "stdout",
          "text": [
            "accuracy:   1.000\n",
            "Confusion matrix, without normalization\n"
          ]
        },
        {
          "output_type": "display_data",
          "data": {
            "image/png": "[encoded data removed]",
            "text/plain": [
              "<Figure size 432x288 with 2 Axes>"
            ]
          },
          "metadata": {
            "needs_background": "light"
          }
        }
      ]
    },
    {
      "cell_type": "code",
      "source": [
        "from sklearn.metrics import classification_report\n",
        "print(classification_report(Y_test,prediction2))"
      ],
      "metadata": {
        "colab": {
          "base_uri": "https://localhost:8080/"
        },
        "id": "brG1eO2brFOB",
        "outputId": "12a7fe01-7c4b-4d1a-a9f6-5942bbc9282d"
      },
      "execution_count": null,
      "outputs": [
        {
          "output_type": "stream",
          "name": "stdout",
          "text": [
            "              precision    recall  f1-score   support\n",
            "\n",
            "        Fake       1.00      1.00      1.00       199\n",
            "        Real       1.00      1.00      1.00       310\n",
            "\n",
            "    accuracy                           1.00       509\n",
            "   macro avg       1.00      1.00      1.00       509\n",
            "weighted avg       1.00      1.00      1.00       509\n",
            "\n"
          ]
        }
      ]
    },
    {
      "cell_type": "markdown",
      "source": [
        "# **SVM**"
      ],
      "metadata": {
        "id": "5L9wkifDrN3b"
      }
    },
    {
      "cell_type": "code",
      "source": [
        "from sklearn.svm import SVC\n",
        "smodel = SVC()\n",
        "smodel.fit(X_train,Y_train)"
      ],
      "metadata": {
        "colab": {
          "base_uri": "https://localhost:8080/"
        },
        "id": "FjPnozAYrQZS",
        "outputId": "a8cb0f47-30f7-415a-a2b5-6454215f9c60"
      },
      "execution_count": null,
      "outputs": [
        {
          "output_type": "execute_result",
          "data": {
            "text/plain": [
              "SVC()"
            ]
          },
          "metadata": {},
          "execution_count": 213
        }
      ]
    },
    {
      "cell_type": "code",
      "source": [
        "from sklearn import metrics\n",
        "import numpy as np\n",
        "import itertools\n",
        "\n",
        "smodel.fit(X_train, Y_train)\n",
        "prediction3 = rfmodel.predict(X_test)\n",
        "score = metrics.accuracy_score(Y_test, prediction3)\n",
        "print(\"accuracy:   %0.3f\" % score)\n",
        "cm1 = metrics.confusion_matrix(Y_test, prediction3)\n",
        "plot_confusion_matrix(cm1, classes=['FAKE', 'REAL'])"
      ],
      "metadata": {
        "colab": {
          "base_uri": "https://localhost:8080/",
          "height": 346
        },
        "id": "h_s3cV_0rSe7",
        "outputId": "7816b507-3314-4867-d2ed-34fb4a9857bf"
      },
      "execution_count": null,
      "outputs": [
        {
          "output_type": "stream",
          "name": "stdout",
          "text": [
            "accuracy:   1.000\n",
            "Confusion matrix, without normalization\n"
          ]
        },
        {
          "output_type": "display_data",
          "data": {
            "image/png": "[encoded data removed]",
            "text/plain": [
              "<Figure size 432x288 with 2 Axes>"
            ]
          },
          "metadata": {
            "needs_background": "light"
          }
        }
      ]
    },
    {
      "cell_type": "code",
      "source": [
        "from sklearn.metrics import classification_report\n",
        "print(classification_report(Y_test,prediction2))"
      ],
      "metadata": {
        "colab": {
          "base_uri": "https://localhost:8080/"
        },
        "id": "bBJfnYAnrbGq",
        "outputId": "2f5c0636-cfa1-4271-ea7b-52b14da1a0b7"
      },
      "execution_count": null,
      "outputs": [
        {
          "output_type": "stream",
          "name": "stdout",
          "text": [
            "              precision    recall  f1-score   support\n",
            "\n",
            "        Fake       1.00      1.00      1.00       199\n",
            "        Real       1.00      1.00      1.00       310\n",
            "\n",
            "    accuracy                           1.00       509\n",
            "   macro avg       1.00      1.00      1.00       509\n",
            "weighted avg       1.00      1.00      1.00       509\n",
            "\n"
          ]
        }
      ]
    }
  ]
}